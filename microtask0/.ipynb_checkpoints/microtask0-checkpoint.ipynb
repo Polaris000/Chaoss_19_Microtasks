{
 "cells": [
  {
   "cell_type": "markdown",
   "metadata": {},
   "source": [
    "## Microtask0\n",
    "\n",
    "### Problem Statement:\n",
    "Use this notebook implementing the Code_Changes metric (see it in MyBinder) as an example of how to collect the data, producing a single JSON file per data source, with all items (commits, issues, pull/merge requests) in it. Produce one notebook per data source (git, GitHub/GitLab issues, GitHub pull requests / GitLab merge requests) showing a summary of the contents of that file (number of items in it, and number of different identities in it counting authors/committers for git, submitters for issues and pull/merge requests). This microtask is mandatory, to show that you can retrieve data and produde a notebook showing it. In each notebook, include also the list of repositories retrieved, and the date of retrieval, using data available in the JSON file."
   ]
  },
  {
   "cell_type": "markdown",
   "metadata": {},
   "source": [
    "### Project: django\n",
    "\n",
    "### Repositories"
   ]
  },
  {
   "cell_type": "code",
   "execution_count": 1,
   "metadata": {},
   "outputs": [],
   "source": [
    "import json\n",
    "import datetime\n"
   ]
  },
  {
   "cell_type": "markdown",
   "metadata": {
    "scrolled": true
   },
   "source": [
    "### Getting the data"
   ]
  },
  {
   "cell_type": "code",
   "execution_count": 3,
   "metadata": {},
   "outputs": [],
   "source": [
    "github_url = \"https://github.com/\"\n",
    "owner = \"django\"\n",
    "repos_used = [\"djangoproject.com\", \"channels\"]\n",
    "auth_token = \" \"\n"
   ]
  },
  {
   "cell_type": "code",
   "execution_count": null,
   "metadata": {},
   "outputs": [],
   "source": [
    "for repo in repos_used:\n",
    "    !perceval git --json-line $(github_url + owner + \"/\" +repo) >> repodata.json\n",
    "    print(\"...\")\n",
    "    !perceval github -t $auth_token --json-line --sleep-for-rate --category pull_request $owner $repo >> repodata.json\n",
    "    print(\"...\")\n",
    "    !perceval github -t $auth_token --json-line --sleep-for-rate --category issue $owner $repo >> repodata.json\n",
    "    print(\"...\")"
   ]
  },
  {
   "cell_type": "code",
   "execution_count": null,
   "metadata": {},
   "outputs": [],
   "source": [
    "class Code_Changes:\n",
    "    \n",
    "    def __init__(self, path_to_file):\n",
    "        with open(path_to_file) as jsonfile:\n",
    "    \n",
    "    \n",
    "    def _commit_breakdown(commit):\n",
    "        repo_name = commit['origin']\n",
    "\n",
    "    @staticmethod\n",
    "    def _summary(repo, cdata):\n",
    "        \"\"\"Compute a summary of a commit, suitable as a row in a dataframe\"\"\"\n",
    "        \n",
    "        summary = {\n",
    "            'repo': repo,\n",
    "            'hash': cdata['commit'],\n",
    "            'author': cdata['Author'],\n",
    "            'author_date': datetime.datetime.strptime(cdata['AuthorDate'],\n",
    "                                                      \"%a %b %d %H:%M:%S %Y %z\"),\n",
    "            'commit': cdata['Commit'],\n",
    "            'commit_date': datetime.datetime.strptime(cdata['CommitDate'],\n",
    "                                                      \"%a %b %d %H:%M:%S %Y %z\"),\n",
    "            'files_no': len(cdata['files'])\n",
    "        }\n",
    "        actions = 0\n",
    "        for file in cdata['files']:\n",
    "            if 'action' in file:\n",
    "                actions += 1\n",
    "        summary['files_action'] = actions\n",
    "        if 'Merge' in cdata:\n",
    "            summary['merge'] = True\n",
    "        else:\n",
    "            summary['merge'] = False\n",
    "        return summary;\n",
    "    \n",
    "    def __init__(self, path):\n",
    "        \"\"\"Initilizes self.df, the dataframe with one row per commit.\n",
    "        \"\"\"\n",
    "\n",
    "        self.df = pd.DataFrame(columns=['hash', 'author', 'author_date',\n",
    "                                        'commit', 'commit_date',\n",
    "                                        'files_no', 'files_action',\n",
    "                                        'merge'])\n",
    "        commits = []\n",
    "        with open(path) as commits_file:\n",
    "            for line in commits_file:\n",
    "                commit = json.loads(line)\n",
    "                commits.append(self._summary(repo=commit['origin'],\n",
    "                                             cdata=commit['data']))\n",
    "        self.df = self.df.append(commits, sort=True)\n",
    "        \n",
    "        self.df['author_date'] = pd.to_datetime(self.df['author_date'], utc=True)\n",
    "        self.df['commit_date'] = pd.to_datetime(self.df['commit_date'], utc=True)\n",
    "        \n",
    "    def total_count(self):\n",
    "        \n",
    "        return len(self.df.index)\n",
    "    \n",
    "    def count(self, since = None, until = None, empty=True, merge=True, date='author_date'):\n",
    "        \"\"\"Count number of commits\n",
    "        \n",
    "        :param since: Period start\n",
    "        :param until: Period end\n",
    "        :param empty: Include empty commits\n",
    "        :param merge: Include merge commits\n",
    "        :param  date: Kind of date ('author_date' or 'commit_date')\n",
    "        \"\"\"\n",
    "        \n",
    "        df = self.df\n",
    "        if since:\n",
    "            df = df[df[date] >= since]\n",
    "        if until:\n",
    "            df = df[df[date] < until]\n",
    "        if not empty:\n",
    "            df = df[df['files_action'] != 0]\n",
    "        if not merge:\n",
    "            df = df[df['merge'] == False] \n",
    "        return df['hash'].nunique()\n",
    "    \n",
    "    def get_authors(self):\n",
    "        return self.df['author'].unique()\n",
    "    \n",
    "    def count_authors(self):\n",
    "        return len(self.get_authors())\n",
    "    \n",
    "    def by_month(self):\n",
    "        \n",
    "        return self.df['author_date'] \\\n",
    "            .groupby([self.df.author_date.dt.year.rename('year'),\n",
    "                      self.df.author_date.dt.month.rename('month')]) \\\n",
    "            .agg('count')\n"
   ]
  },
  {
   "cell_type": "code",
   "execution_count": 87,
   "metadata": {},
   "outputs": [],
   "source": [
    "count = 0\n",
    "\n",
    "def print_keys(y):\n",
    "    print(count)\n",
    "    if (type(y) != dict): return 0\n",
    "    \n",
    "    else:\n",
    "        print(y.keys())\n",
    "        for i in y.keys():\n",
    "            print_keys(y[i])"
   ]
  },
  {
   "cell_type": "code",
   "execution_count": 105,
   "metadata": {},
   "outputs": [],
   "source": [
    "def abc():\n",
    "    print(\"hi\")"
   ]
  },
  {
   "cell_type": "code",
   "execution_count": 106,
   "metadata": {},
   "outputs": [],
   "source": [
    "t = property()"
   ]
  },
  {
   "cell_type": "code",
   "execution_count": 108,
   "metadata": {},
   "outputs": [
    {
     "data": {
      "text/plain": [
       "<property at 0x7f13e80ef7c8>"
      ]
     },
     "execution_count": 108,
     "metadata": {},
     "output_type": "execute_result"
    }
   ],
   "source": [
    "t.setter(abc)"
   ]
  },
  {
   "cell_type": "code",
   "execution_count": 110,
   "metadata": {},
   "outputs": [
    {
     "data": {
      "text/plain": [
       "<property at 0x7f13e80b0548>"
      ]
     },
     "execution_count": 110,
     "metadata": {},
     "output_type": "execute_result"
    }
   ],
   "source": [
    "t.getter(abc)"
   ]
  },
  {
   "cell_type": "code",
   "execution_count": 112,
   "metadata": {},
   "outputs": [
    {
     "name": "stdout",
     "output_type": "stream",
     "text": [
      "<property object at 0x7f13e8124638>\n"
     ]
    }
   ],
   "source": [
    "print(t)"
   ]
  },
  {
   "cell_type": "code",
   "execution_count": null,
   "metadata": {},
   "outputs": [],
   "source": []
  }
 ],
 "metadata": {
  "kernelspec": {
   "display_name": "Python 3",
   "language": "python",
   "name": "python3"
  },
  "language_info": {
   "codemirror_mode": {
    "name": "ipython",
    "version": 3
   },
   "file_extension": ".py",
   "mimetype": "text/x-python",
   "name": "python",
   "nbconvert_exporter": "python",
   "pygments_lexer": "ipython3",
   "version": "3.6.7"
  }
 },
 "nbformat": 4,
 "nbformat_minor": 2
}
