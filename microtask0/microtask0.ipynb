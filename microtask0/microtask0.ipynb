{
 "cells": [
  {
   "cell_type": "markdown",
   "metadata": {},
   "source": [
    "# Microtask 0\n",
    "\n",
    "## Aim:\n",
    "- Get a basic understanding of perceval and the github api data it fetches\n",
    "- Get comfortable analyzing said data: \n",
    "    - Total number of commits\n",
    "    - Number of commits in master \n",
    "    - Number of issues and pull-requests\n",
    "    - Number of open issues and closed issues"
   ]
  },
  {
   "cell_type": "markdown",
   "metadata": {},
   "source": [
    "# Collecting the data\n",
    "data is collected from the progit project on github. Specifically, the repositories progit2-ru and progit2-zh were used.\n"
   ]
  },
  {
   "cell_type": "markdown",
   "metadata": {
    "scrolled": true
   },
   "source": [
    "### Getting the data"
   ]
  },
  {
   "cell_type": "code",
   "execution_count": 2,
   "metadata": {},
   "outputs": [
    {
     "name": "stdout",
     "output_type": "stream",
     "text": [
      "['https://github.com/progit/progit2-ru', 'https://github.com/progit/progit2-zh']\n"
     ]
    }
   ],
   "source": [
    "github_url = \"https://github.com/\"\n",
    "owner = \"progit\"\n",
    "repos_used = [\"progit2-ru\", \"progit2-zh\"]\n",
    "repo_urls = [github_url + owner + \"/\" + repo_used for repo_used in repos_used]\n",
    "auth_token = \"f4d98f2cef0a0b4873b723fe3ee4574765e8b37f\" # Please enter your github token here"
   ]
  },
  {
   "cell_type": "code",
   "execution_count": 3,
   "metadata": {},
   "outputs": [
    {
     "name": "stdout",
     "output_type": "stream",
     "text": [
      "progit2-ru https://github.com/progit/progit2-ru\n",
      "/bin/sh: 1: perceval: not found\n",
      "/bin/sh: 1: perceval: not found\n",
      "/bin/sh: 1: perceval: not found\n",
      "progit2-zh https://github.com/progit/progit2-zh\n",
      "/bin/sh: 1: perceval: not found\n",
      "/bin/sh: 1: perceval: not found\n",
      "/bin/sh: 1: perceval: not found\n"
     ]
    }
   ],
   "source": [
    "for repo, repo_url in zip(repos_used, repo_urls):\n",
    "    print(repo, repo_url)\n",
    "    if repo == repos_used[0]:\n",
    "        !perceval git --json-line $repo_url > progit.json\n",
    "\n",
    "    else:\n",
    "        !perceval git --json-line $repo_url >> progit.json\n",
    "\n",
    "    !perceval github -t $auth_token --json-line --sleep-for-rate --category pull_request $owner $repo >> progit.json\n",
    "\n",
    "    !perceval github -t $auth_token --json-line --sleep-for-rate --category issue $owner $repo >> progit.json"
   ]
  },
  {
   "cell_type": "code",
   "execution_count": 1,
   "metadata": {},
   "outputs": [],
   "source": [
    "import json\n",
    "import datetime"
   ]
  },
  {
   "cell_type": "code",
   "execution_count": 4,
   "metadata": {},
   "outputs": [],
   "source": [
    "class Code_Changes:\n",
    "               \n",
    "    \n",
    "    def __init__(self, path_to_file):\n",
    "        \n",
    "        self.clean_data = defaultdict(list)\n",
    "        \n",
    "        with open(path_to_file, 'r') as raw_data:\n",
    "            for line in raw_data:\n",
    "                line = json.loads(line)\n",
    "\n",
    "                clean_line = dict()\n",
    "                if line['category'] == \"commit\":\n",
    "                    clean_line = self._clean_commit(line)\n",
    "                    \n",
    "                elif line['category'] == \"issue\":\n",
    "                    clean_line = self._clean_issue(line)\n",
    "\n",
    "                elif line['category'] == \"pull_request\":\n",
    "                    clean_line = self._clean_pr(line)\n",
    "\n",
    "                self.clean_data[line['category']].append(clean_line)        \n",
    "    \n",
    "    \n",
    "    def number_of_repos(self):\n",
    "        return len(repos_used)\n",
    "    \n",
    "    def total_commits(self):\n",
    "        return len(self.clean_data['commit'])\n",
    "    \n",
    "    def total_commits_per_repo(self):\n",
    "        commits_per_repo = {el:0 for el in repo_urls}\n",
    "        \n",
    "        for commit in self.clean_data['commit']:\n",
    "            \n",
    "            commits_per_repo[commit['repo']] += 1\n",
    "    \n",
    "        return commits_per_repo\n",
    "    \n",
    "    def count_from_to(self, start=None, end=None, type_of_date=\"author_date\", empty=True, merge=True):\n",
    "        # commit_list has elements of a specific category\n",
    "        category = \"commit\"\n",
    "        commit_list = self.clean_data[category]\n",
    "        start_date = datetime.datetime.strptime(start, \"%Y-%m-%d\") if start is not None else datetime.datetime.min\n",
    "        end_date = datetime.datetime.strptime(end, \"%Y-%m-%d\") if end is not None else datetime.datetime.max\n",
    "        \n",
    "        required_commit_set = set()\n",
    "        for elem in commit_list:\n",
    "            if start_date <= self._clean_date(elem[type_of_date]) <= end_date:\n",
    "                if (empty) or (not empty and elem['files_action'] != 0):\n",
    "                    if (merge) or (not merge and elem['merge'] == False):\n",
    "\n",
    "                        required_commit_set.add(elem['hash'])\n",
    "        return len(required_commit_set)\n",
    "                    \n",
    "    \n",
    "    # private methods to clean data ---------------------------\n",
    "    \n",
    "    @staticmethod\n",
    "    def _clean_date(date_long_format):\n",
    "        datetimeobj = datetime.datetime.strptime(date_long_format, \"%a %b %d %H:%M:%S %Y %z\")\n",
    "        datetimeobj = datetimeobj.replace(tzinfo=None)\n",
    "    \n",
    "        return datetimeobj\n",
    "    \n",
    "    @staticmethod                \n",
    "    def _clean_commit(line):\n",
    "        repo_name = line['origin']\n",
    "        line_data = line['data']\n",
    "        cleaned_line = {\n",
    "            'repo': repo_name,\n",
    "            'hash': line_data['commit'],\n",
    "            'category': \"commit\",\n",
    "            'commit': line_data['Commit'],\n",
    "            'author': line_data['Author'],\n",
    "            'author_date': line_data['AuthorDate'],\n",
    "            'commit_date': line_data['CommitDate'],\n",
    "            'files_no': len(line_data['files'])\n",
    "        }\n",
    "        \n",
    "        actions = 0\n",
    "        \n",
    "        cleaned_line['files_action'] = actions\n",
    "        cleaned_line['merge'] = 'Merge' in line_data\n",
    "        \n",
    "        for file in line_data['files']:\n",
    "            if 'action' in file:\n",
    "                actions += 1\n",
    "                cleaned_line['files_action'] = actions\n",
    "                cleaned_line['merge'] = 'Merge' in line_data\n",
    "        return cleaned_line\n",
    "    \n",
    "    @staticmethod\n",
    "    def _clean_issue(line):\n",
    "        repo_name = line['origin']\n",
    "        line_data = line['data']\n",
    "        cleaned_line ={\n",
    "            'repo': repo_name,\n",
    "            'hash': line_data['id'],\n",
    "            'category': \"issue\",\n",
    "            'author': line_data['user']['login'],\n",
    "            'created_date': line_data['created_at'],\n",
    "            'current_status': line_data['state']   \n",
    "        }\n",
    "        \n",
    "        return cleaned_line\n",
    "    \n",
    "    @staticmethod\n",
    "    def _clean_pr(line):\n",
    "        repo_name = line['origin']\n",
    "        line_data = line['data']\n",
    "        cleaned_line ={\n",
    "            'repo': repo_name,\n",
    "            'hash': line_data['id'],\n",
    "            'category': \"pull_request\",\n",
    "            'author': line_data['user']['login'],\n",
    "            'created_date': line_data['created_at'],\n",
    "            'current_status': line_data['state']   \n",
    "        }\n",
    "        \n",
    "        return cleaned_line\n",
    "    "
   ]
  },
  {
   "cell_type": "markdown",
   "metadata": {},
   "source": [
    "# Analyzing the data using the Class"
   ]
  },
  {
   "cell_type": "code",
   "execution_count": 7,
   "metadata": {},
   "outputs": [],
   "source": [
    "commits_data = Code_Changes('./progit.json')"
   ]
  },
  {
   "cell_type": "markdown",
   "metadata": {},
   "source": [
    "## Total number of commits "
   ]
  },
  {
   "cell_type": "code",
   "execution_count": 8,
   "metadata": {},
   "outputs": [
    {
     "name": "stdout",
     "output_type": "stream",
     "text": [
      "The total number of commits in all repos is:  3024\n",
      "The number of commits repo-wise is  {'https://github.com/progit/progit2-ru': 1292, 'https://github.com/progit/progit2-zh': 1732}\n"
     ]
    }
   ],
   "source": [
    "print(\"The total number of commits in all repos is: \", commits_data.total_commits())\n",
    "print(\"The number of commits repo-wise is \", commits_data.total_commits_per_repo())"
   ]
  },
  {
   "cell_type": "markdown",
   "metadata": {},
   "source": [
    "## Total number of commits between dates"
   ]
  },
  {
   "cell_type": "code",
   "execution_count": 9,
   "metadata": {},
   "outputs": [
    {
     "name": "stdout",
     "output_type": "stream",
     "text": [
      "Code changes count all period: 2402\n",
      "Code changes count from 2018-01-01 to 2018-07-01: 77\n"
     ]
    },
    {
     "ename": "KeyError",
     "evalue": "'merge'",
     "output_type": "error",
     "traceback": [
      "\u001b[0;31m---------------------------------------------------------------------------\u001b[0m",
      "\u001b[0;31mKeyError\u001b[0m                                  Traceback (most recent call last)",
      "\u001b[0;32m<ipython-input-9-d5b63a0faa50>\u001b[0m in \u001b[0;36m<module>\u001b[0;34m\u001b[0m\n\u001b[1;32m      3\u001b[0m       commits_data.count_from_to(start=\"2018-01-01\", end=\"2019-07-01\"))\n\u001b[1;32m      4\u001b[0m print(\"Code changes count from 2018-01-01 to 2019-07-01 (no merge commits):\",\n\u001b[0;32m----> 5\u001b[0;31m       commits_data.count_from_to(start=\"2018-01-01\", end=\"2018-07-01\", merge=False))\n\u001b[0m",
      "\u001b[0;32m<ipython-input-4-f54ee567003b>\u001b[0m in \u001b[0;36mcount_from_to\u001b[0;34m(self, start, end, type_of_date, empty, merge)\u001b[0m\n\u001b[1;32m     49\u001b[0m             \u001b[0;32mif\u001b[0m \u001b[0mstart_date\u001b[0m \u001b[0;34m<=\u001b[0m \u001b[0mself\u001b[0m\u001b[0;34m.\u001b[0m\u001b[0m_clean_date\u001b[0m\u001b[0;34m(\u001b[0m\u001b[0melem\u001b[0m\u001b[0;34m[\u001b[0m\u001b[0mtype_of_date\u001b[0m\u001b[0;34m]\u001b[0m\u001b[0;34m)\u001b[0m \u001b[0;34m<=\u001b[0m \u001b[0mend_date\u001b[0m\u001b[0;34m:\u001b[0m\u001b[0;34m\u001b[0m\u001b[0;34m\u001b[0m\u001b[0m\n\u001b[1;32m     50\u001b[0m                 \u001b[0;32mif\u001b[0m \u001b[0;34m(\u001b[0m\u001b[0mempty\u001b[0m\u001b[0;34m)\u001b[0m \u001b[0;32mor\u001b[0m \u001b[0;34m(\u001b[0m\u001b[0;32mnot\u001b[0m \u001b[0mempty\u001b[0m \u001b[0;32mand\u001b[0m \u001b[0melem\u001b[0m\u001b[0;34m[\u001b[0m\u001b[0;34m'files_action'\u001b[0m\u001b[0;34m]\u001b[0m \u001b[0;34m!=\u001b[0m \u001b[0;36m0\u001b[0m\u001b[0;34m)\u001b[0m\u001b[0;34m:\u001b[0m\u001b[0;34m\u001b[0m\u001b[0;34m\u001b[0m\u001b[0m\n\u001b[0;32m---> 51\u001b[0;31m                     \u001b[0;32mif\u001b[0m \u001b[0;34m(\u001b[0m\u001b[0mmerge\u001b[0m\u001b[0;34m)\u001b[0m \u001b[0;32mor\u001b[0m \u001b[0;34m(\u001b[0m\u001b[0;32mnot\u001b[0m \u001b[0mmerge\u001b[0m \u001b[0;32mand\u001b[0m \u001b[0melem\u001b[0m\u001b[0;34m[\u001b[0m\u001b[0;34m'merge'\u001b[0m\u001b[0;34m]\u001b[0m \u001b[0;34m==\u001b[0m \u001b[0;32mFalse\u001b[0m\u001b[0;34m)\u001b[0m\u001b[0;34m:\u001b[0m\u001b[0;34m\u001b[0m\u001b[0;34m\u001b[0m\u001b[0m\n\u001b[0m\u001b[1;32m     52\u001b[0m \u001b[0;34m\u001b[0m\u001b[0m\n\u001b[1;32m     53\u001b[0m                         \u001b[0mrequired_commit_set\u001b[0m\u001b[0;34m.\u001b[0m\u001b[0madd\u001b[0m\u001b[0;34m(\u001b[0m\u001b[0melem\u001b[0m\u001b[0;34m[\u001b[0m\u001b[0;34m'hash'\u001b[0m\u001b[0;34m]\u001b[0m\u001b[0;34m)\u001b[0m\u001b[0;34m\u001b[0m\u001b[0;34m\u001b[0m\u001b[0m\n",
      "\u001b[0;31mKeyError\u001b[0m: 'merge'"
     ]
    }
   ],
   "source": [
    "print(\"Code changes count all period:\", commits_data.count_from_to())\n",
    "print(\"Code changes count from 2018-01-01 to 2018-07-01:\",\n",
    "      commits_data.count_from_to(start=\"2018-01-01\", end=\"2019-07-01\"))\n",
    "print(\"Code changes count from 2018-01-01 to 2019-07-01 (no merge commits):\",\n",
    "      commits_data.count_from_to(start=\"2018-01-01\", end=\"2018-07-01\", merge=False))\n"
   ]
  },
  {
   "cell_type": "markdown",
   "metadata": {},
   "source": [
    "# Analyzing the json file directly"
   ]
  },
  {
   "cell_type": "code",
   "execution_count": null,
   "metadata": {},
   "outputs": [],
   "source": [
    "github_data = defaultdict(list)\n",
    "\n",
    "count = 0\n",
    "with open('trial.json', 'r') as github_data_file:\n",
    "    for line in github_data_file:\n",
    "        data_line = json.loads(line)\n",
    "        count += 1\n",
    "\n",
    "        category = data_line['category']\n",
    "        data = data_line['data']\n",
    "        github_data[category].append(data)\n",
    "            \n",
    "print(len(github_data['commit']))"
   ]
  },
  {
   "cell_type": "markdown",
   "metadata": {},
   "source": [
    "## Total number of commits in the master branch\n"
   ]
  },
  {
   "cell_type": "code",
   "execution_count": null,
   "metadata": {},
   "outputs": [],
   "source": [
    "master_commits = set()\n",
    "\n",
    "for elem in github_data['commit']:\n",
    "    if 'HEAD -> refs/heads/master' in elem['refs']:\n",
    "        master_commits.add(elem['commit'])       \n",
    "        for parent in elem['parents']:\n",
    "            \n",
    "            if parent not in master_commits:\n",
    "                master_commits.add(parent)\n",
    "                \n",
    "print(len(master_commits))\n",
    "        "
   ]
  },
  {
   "cell_type": "markdown",
   "metadata": {},
   "source": [
    "## Total number of non empty commits"
   ]
  },
  {
   "cell_type": "code",
   "execution_count": null,
   "metadata": {},
   "outputs": [],
   "source": [
    "num_empty_commits = 0\n",
    "\n",
    "for commit in github_data['commits']:\n",
    "    for file in commit['files']:\n",
    "        if 'action' in file:\n",
    "            num_empty_commits += 1\n",
    "            break\n",
    "            \n",
    "print(num_empty_commits)\n",
    "            "
   ]
  },
  {
   "cell_type": "markdown",
   "metadata": {},
   "source": [
    "## Total number of non - merge commits"
   ]
  },
  {
   "cell_type": "code",
   "execution_count": null,
   "metadata": {},
   "outputs": [],
   "source": [
    "count = 0\n",
    "\n",
    "for commit in github_data['commit']:\n",
    "    if 'Merge' not in commit:\n",
    "        count += 1\n",
    "        \n",
    "print(\"Number of non-merge commits is: %d\" %count)"
   ]
  },
  {
   "cell_type": "markdown",
   "metadata": {},
   "source": [
    "# Pull Requests and Issues"
   ]
  },
  {
   "cell_type": "code",
   "execution_count": null,
   "metadata": {},
   "outputs": [],
   "source": []
  },
  {
   "cell_type": "markdown",
   "metadata": {},
   "source": [
    "## Total number of pull requests and issues"
   ]
  },
  {
   "cell_type": "code",
   "execution_count": null,
   "metadata": {},
   "outputs": [],
   "source": [
    "total_issues = len(github_data[\"issue\"])\n",
    "\n",
    "print(\"The number of issues is {0}\".format(total_issues))\n",
    "print(\"The number of pull requests is {0}\".format(len(github_data[\"pull_request\"])))"
   ]
  },
  {
   "cell_type": "markdown",
   "metadata": {},
   "source": [
    "## Total number of open and closed issues"
   ]
  },
  {
   "cell_type": "code",
   "execution_count": null,
   "metadata": {},
   "outputs": [],
   "source": [
    "num_open_issues = 0\n",
    "for issue in github_data[\"issue\"]:\n",
    "    if issue['state'] == \"open\":\n",
    "        num_open_issues += 1\n",
    "        \n",
    "print(\"The number of open issues is \", num_open_issues)\n",
    "print(\"The number of closed issues is \", total_issues - num_open_issues)"
   ]
  }
 ],
 "metadata": {
  "kernelspec": {
   "display_name": "Python 3",
   "language": "python",
   "name": "python3"
  },
  "language_info": {
   "codemirror_mode": {
    "name": "ipython",
    "version": 3
   },
   "file_extension": ".py",
   "mimetype": "text/x-python",
   "name": "python",
   "nbconvert_exporter": "python",
   "pygments_lexer": "ipython3",
   "version": "3.6.7"
  }
 },
 "nbformat": 4,
 "nbformat_minor": 2
}
