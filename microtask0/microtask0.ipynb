{
 "cells": [
  {
   "cell_type": "markdown",
   "metadata": {},
   "source": [
    "## Microtask0\n",
    "\n",
    "### Problem Statement:\n",
    "Use this notebook implementing the Code_Changes metric (see it in MyBinder) as an example of how to collect the data, producing a single JSON file per data source, with all items (commits, issues, pull/merge requests) in it. Produce one notebook per data source (git, GitHub/GitLab issues, GitHub pull requests / GitLab merge requests) showing a summary of the contents of that file (number of items in it, and number of different identities in it counting authors/committers for git, submitters for issues and pull/merge requests). This microtask is mandatory, to show that you can retrieve data and produde a notebook showing it. In each notebook, include also the list of repositories retrieved, and the date of retrieval, using data available in the JSON file."
   ]
  },
  {
   "cell_type": "markdown",
   "metadata": {},
   "source": [
    "### Project: django\n",
    "\n",
    "### Repositories"
   ]
  },
  {
   "cell_type": "code",
   "execution_count": 10,
   "metadata": {},
   "outputs": [],
   "source": [
    "import json\n",
    "import datetime\n",
    "from collections import defaultdict\n",
    "from pprint import pprint"
   ]
  },
  {
   "cell_type": "markdown",
   "metadata": {
    "scrolled": true
   },
   "source": [
    "### Getting the data"
   ]
  },
  {
   "cell_type": "code",
   "execution_count": 16,
   "metadata": {},
   "outputs": [
    {
     "name": "stdout",
     "output_type": "stream",
     "text": [
      "['https://github.com/sarthak-sehgal/timetable-visualizer']\n"
     ]
    }
   ],
   "source": [
    "github_url = \"https://github.com/\"\n",
    "owner = \"sarthak-sehgal\"\n",
    "repos_used = [\"timetable-visualizer\"]\n",
    "# github_url = \"https://github.com/\"\n",
    "# owner = \"django\"\n",
    "# repos_used = [\"djangoproject.com\"]\n",
    "repo_urls = [github_url + owner + \"/\" + repo_used for repo_used in repos_used]\n",
    "auth_token = \"f4d98f2cef0a0b4873b723fe3ee4574765e8b37f\"\n",
    "print(repo_urls)\n",
    "\n"
   ]
  },
  {
   "cell_type": "code",
   "execution_count": 17,
   "metadata": {},
   "outputs": [
    {
     "name": "stdout",
     "output_type": "stream",
     "text": [
      "timetable-visualizer https://github.com/sarthak-sehgal/timetable-visualizer\n",
      "[2019-03-20 11:16:25,170] - Sir Perceval is on his quest.\n",
      "[2019-03-20 11:16:25,172] - Fetching commits: 'https://github.com/sarthak-sehgal/timetable-visualizer' git repository from 1970-01-01 00:00:00+00:00 to 2100-01-01 00:00:00+00:00; all branches\n",
      "[2019-03-20 11:16:27,015] - Fetch process completed: 14 commits fetched\n",
      "[2019-03-20 11:16:27,015] - Sir Perceval completed his quest.\n",
      "...\n",
      "[2019-03-20 11:16:27,604] - Sir Perceval is on his quest.\n",
      "[2019-03-20 11:16:30,704] - Sir Perceval completed his quest.\n",
      "...\n",
      "[2019-03-20 11:16:31,194] - Sir Perceval is on his quest.\n",
      "[2019-03-20 11:16:34,960] - Getting info for https://api.github.com/users/kunal-mohta\n",
      "[2019-03-20 11:16:36,882] - Getting info for https://api.github.com/users/sarthak-sehgal\n",
      "[2019-03-20 11:16:38,053] - Sir Perceval completed his quest.\n",
      "...\n"
     ]
    }
   ],
   "source": [
    "for repo, repo_url in zip(repos_used, repo_urls):\n",
    "    print(repo, repo_url)\n",
    "    !perceval git --json-line $repo_url > trial.json\n",
    "    print(\"...\")\n",
    "    !perceval github -t $auth_token --json-line --sleep-for-rate --category pull_request $owner $repo >> trial.json\n",
    "    print(\"...\")\n",
    "    !perceval github -t $auth_token --json-line --sleep-for-rate --category issue $owner $repo >> trial.json\n",
    "    print(\"...\")"
   ]
  },
  {
   "cell_type": "code",
   "execution_count": 102,
   "metadata": {},
   "outputs": [],
   "source": [
    "class Code_Changes:\n",
    "               \n",
    "    \n",
    "    def __init__(self, path_to_file):\n",
    "        \n",
    "        self.clean_data = defaultdict(list)\n",
    "        \n",
    "        with open(path_to_file, 'r') as raw_data:\n",
    "            for line in raw_data:\n",
    "                line = json.loads(line)\n",
    "\n",
    "                clean_line = dict()\n",
    "                if line['category'] == \"commit\":\n",
    "                    clean_line = self._clean_commit(line)\n",
    "                    \n",
    "                elif line['category'] == \"issue\":\n",
    "                    clean_line = self._clean_issue(line)\n",
    "\n",
    "                elif line['category'] == \"pull_request\":\n",
    "                    clean_line = self._clean_pr(line)\n",
    "\n",
    "                self.clean_data[line['category']].append(clean_line)        \n",
    "    \n",
    "    \n",
    "    def number_of_repos(self):\n",
    "        return len(repos_used)\n",
    "    \n",
    "    def total_commits(self):\n",
    "        return len(self.clean_data['commit'])\n",
    "    \n",
    "    def total_commits_per_repo(self):\n",
    "        commits_per_repo = {el:0 for el in repo_urls}\n",
    "        \n",
    "        for commit in self.clean_data['commit']:\n",
    "            \n",
    "            commits_per_repo[commit['repo']] += 1\n",
    "    \n",
    "        return commits_per_repo\n",
    "    \n",
    "    def count_from_to(self, start=None, end=None, type_of_date=\"author_date\", empty=True, merge=True):\n",
    "        # commit_list has elements of a specific category\n",
    "        category = \"commit\"\n",
    "        commit_list = self.clean_data[category]\n",
    "        start_date = datetime.datetime.strptime(start, \"%Y-%m-%d\") if start is not None else datetime.datetime.min\n",
    "        end_date = datetime.datetime.strptime(end, \"%Y-%m-%d\") if end is not None else datetime.datetime.max\n",
    "        \n",
    "        required_commit_set = set()\n",
    "        for elem in commit_list:\n",
    "            if start_date <= self._clean_date(elem[type_of_date]) <= end_date:\n",
    "                if (empty) or (not empty and elem['files_action'] != 0):\n",
    "                    if (merge) or (not merge and elem['merge'] == False):\n",
    "\n",
    "                        required_commit_set.add(elem['hash'])\n",
    "        return len(required_commit_set)\n",
    "                    \n",
    "    \n",
    "    # private methods to clean data ---------------------------\n",
    "    \n",
    "    @staticmethod\n",
    "    def _clean_date(date_long_format):\n",
    "        datetimeobj = datetime.datetime.strptime(date_long_format, \"%a %b %d %H:%M:%S %Y %z\")\n",
    "        datetimeobj = datetimeobj.replace(tzinfo=None)\n",
    "    \n",
    "        return datetimeobj\n",
    "    \n",
    "    @staticmethod                \n",
    "    def _clean_commit(line):\n",
    "        repo_name = line['origin']\n",
    "        line_data = line['data']\n",
    "        cleaned_line = {\n",
    "            'repo': repo_name,\n",
    "            'hash': line_data['commit'],\n",
    "            'category': \"commit\",\n",
    "            'commit': line_data['Commit'],\n",
    "            'author': line_data['Author'],\n",
    "            'author_date': line_data['AuthorDate'],\n",
    "            'commit_date': line_data['CommitDate'],\n",
    "            'files_no': len(line_data['files'])\n",
    "        }\n",
    "        \n",
    "        actions = 0\n",
    "        \n",
    "        for file in line_data['files']:\n",
    "            if 'action' in file:\n",
    "                actions += 1\n",
    "                cleaned_line['files_action'] = actions\n",
    "                cleaned_line['merge'] = 'Merge' in line_data\n",
    "        return cleaned_line\n",
    "    \n",
    "    @staticmethod\n",
    "    def _clean_issue(line):\n",
    "        repo_name = line['origin']\n",
    "        line_data = line['data']\n",
    "        cleaned_line ={\n",
    "            'repo': repo_name,\n",
    "            'hash': line_data['id'],\n",
    "            'category': \"issue\",\n",
    "            'author': line_data['user']['login'],\n",
    "            'created_date': line_data['created_at'],\n",
    "            'current_status': line_data['state']   \n",
    "        }\n",
    "        \n",
    "        return cleaned_line\n",
    "    \n",
    "    @staticmethod\n",
    "    def _clean_pr(line):\n",
    "        repo_name = line['origin']\n",
    "        line_data = line['data']\n",
    "        cleaned_line ={\n",
    "            'repo': repo_name,\n",
    "            'hash': line_data['id'],\n",
    "            'category': \"pull_request\",\n",
    "            'author': line_data['user']['login'],\n",
    "            'created_date': line_data['created_at'],\n",
    "            'current_status': line_data['state']   \n",
    "        }\n",
    "        \n",
    "        return cleaned_line\n",
    "    "
   ]
  },
  {
   "cell_type": "markdown",
   "metadata": {},
   "source": [
    "# Analyzing the data using the Class"
   ]
  },
  {
   "cell_type": "code",
   "execution_count": 103,
   "metadata": {},
   "outputs": [],
   "source": [
    "commits_data = Code_Changes('./trial.json')"
   ]
  },
  {
   "cell_type": "markdown",
   "metadata": {},
   "source": [
    "## Total number of commits "
   ]
  },
  {
   "cell_type": "code",
   "execution_count": 104,
   "metadata": {},
   "outputs": [
    {
     "name": "stdout",
     "output_type": "stream",
     "text": [
      "The total number of commits in all repos is:  14\n",
      "The number of commits repo-wise is  {'https://github.com/sarthak-sehgal/timetable-visualizer': 14}\n"
     ]
    }
   ],
   "source": [
    "print(\"The total number of commits in all repos is: \", commits_data.total_commits())\n",
    "print(\"The number of commits repo-wise is \", commits_data.total_commits_per_repo())"
   ]
  },
  {
   "cell_type": "markdown",
   "metadata": {},
   "source": [
    "## Total number of commits between dates"
   ]
  },
  {
   "cell_type": "code",
   "execution_count": 134,
   "metadata": {},
   "outputs": [
    {
     "name": "stdout",
     "output_type": "stream",
     "text": [
      "Code changes count all period: 14\n",
      "Code changes count from 2018-01-01 to 2018-07-01: 14\n",
      "Code changes count from 2018-01-01 to 2019-07-01 (no merge commits): 0\n"
     ]
    }
   ],
   "source": [
    "print(\"Code changes count all period:\", commits_data.count_from_to())\n",
    "print(\"Code changes count from 2018-01-01 to 2018-07-01:\",\n",
    "      commits_data.count_from_to(start=\"2018-01-01\", end=\"2019-07-01\"))\n",
    "print(\"Code changes count from 2018-01-01 to 2019-07-01 (no merge commits):\",\n",
    "      commits_data.count_from_to(start=\"2018-01-01\", end=\"2018-07-01\", merge=False))\n"
   ]
  },
  {
   "cell_type": "markdown",
   "metadata": {},
   "source": [
    "# Analyzing the json file directly"
   ]
  },
  {
   "cell_type": "code",
   "execution_count": 141,
   "metadata": {},
   "outputs": [
    {
     "name": "stdout",
     "output_type": "stream",
     "text": [
      "14\n"
     ]
    }
   ],
   "source": [
    "github_data = defaultdict(list)\n",
    "\n",
    "count = 0\n",
    "with open('trial.json', 'r') as github_data_file:\n",
    "    for line in github_data_file:\n",
    "        data_line = json.loads(line)\n",
    "        count += 1\n",
    "\n",
    "        category = data_line['category']\n",
    "        data = data_line['data']\n",
    "        github_data[category].append(data)\n",
    "            \n",
    "print(len(github_data['commit']))"
   ]
  },
  {
   "cell_type": "markdown",
   "metadata": {},
   "source": [
    "## Total number of commits in the master branch\n"
   ]
  },
  {
   "cell_type": "code",
   "execution_count": 155,
   "metadata": {},
   "outputs": [
    {
     "name": "stdout",
     "output_type": "stream",
     "text": [
      "2\n"
     ]
    }
   ],
   "source": [
    "master_commits = set()\n",
    "\n",
    "for elem in github_data['commit']:\n",
    "    if 'HEAD -> refs/heads/master' in elem['refs']:\n",
    "        master_commits.add(elem['commit'])       \n",
    "        for parent in elem['parents']:\n",
    "            \n",
    "            if parent not in master_commits:\n",
    "                master_commits.add(parent)\n",
    "                \n",
    "print(len(master_commits))\n",
    "        "
   ]
  },
  {
   "cell_type": "markdown",
   "metadata": {},
   "source": [
    "## Total number of non empty commits"
   ]
  },
  {
   "cell_type": "code",
   "execution_count": 156,
   "metadata": {},
   "outputs": [
    {
     "name": "stdout",
     "output_type": "stream",
     "text": [
      "0\n"
     ]
    }
   ],
   "source": [
    "num_empty_commits = 0\n",
    "\n",
    "for commit in github_data['commits']:\n",
    "    for file in commit['files']:\n",
    "        if 'action' in file:\n",
    "            num_empty_commits += 1\n",
    "            break\n",
    "            \n",
    "print(num_empty_commits)\n",
    "            "
   ]
  },
  {
   "cell_type": "markdown",
   "metadata": {},
   "source": [
    "## Total number of non - merge commits"
   ]
  },
  {
   "cell_type": "code",
   "execution_count": 143,
   "metadata": {},
   "outputs": [
    {
     "name": "stdout",
     "output_type": "stream",
     "text": [
      "Number of non-merge commits is: 14\n"
     ]
    }
   ],
   "source": [
    "count = 0\n",
    "\n",
    "for commit in github_data['commit']:\n",
    "    if 'Merge' not in commit:\n",
    "        count += 1\n",
    "        \n",
    "print(\"Number of non-merge commits is: %d\" %count)"
   ]
  },
  {
   "cell_type": "markdown",
   "metadata": {},
   "source": [
    "# Pull Requests and Issues"
   ]
  },
  {
   "cell_type": "code",
   "execution_count": null,
   "metadata": {},
   "outputs": [],
   "source": []
  },
  {
   "cell_type": "markdown",
   "metadata": {},
   "source": [
    "## Total number of pull requests and issues"
   ]
  },
  {
   "cell_type": "code",
   "execution_count": 109,
   "metadata": {},
   "outputs": [
    {
     "name": "stdout",
     "output_type": "stream",
     "text": [
      "The number of issues is 1\n",
      "The number of pull requests is 0\n"
     ]
    }
   ],
   "source": [
    "total_issues = len(github_data[\"issue\"])\n",
    "\n",
    "print(\"The number of issues is {0}\".format(total_issues))\n",
    "print(\"The number of pull requests is {0}\".format(len(github_data[\"pull_request\"])))"
   ]
  },
  {
   "cell_type": "markdown",
   "metadata": {},
   "source": [
    "## Total number of open and closed issues"
   ]
  },
  {
   "cell_type": "code",
   "execution_count": 110,
   "metadata": {},
   "outputs": [
    {
     "name": "stdout",
     "output_type": "stream",
     "text": [
      "The number of open issues is  0\n",
      "The number of closed issues is  1\n"
     ]
    }
   ],
   "source": [
    "num_open_issues = 0\n",
    "for issue in github_data[\"issue\"]:\n",
    "    if issue['state'] == \"open\":\n",
    "        num_open_issues += 1\n",
    "        \n",
    "print(\"The number of open issues is \", num_open_issues)\n",
    "print(\"The number of closed issues is \", total_issues - num_open_issues)"
   ]
  }
 ],
 "metadata": {
  "kernelspec": {
   "display_name": "Python 3",
   "language": "python",
   "name": "python3"
  },
  "language_info": {
   "codemirror_mode": {
    "name": "ipython",
    "version": 3
   },
   "file_extension": ".py",
   "mimetype": "text/x-python",
   "name": "python",
   "nbconvert_exporter": "python",
   "pygments_lexer": "ipython3",
   "version": "3.6.7"
  }
 },
 "nbformat": 4,
 "nbformat_minor": 2
}
