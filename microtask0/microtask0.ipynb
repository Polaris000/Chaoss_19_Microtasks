{
 "cells": [
  {
   "cell_type": "markdown",
   "metadata": {},
   "source": [
    "## Microtask0\n",
    "\n",
    "### Problem Statement:\n",
    "Use this notebook implementing the Code_Changes metric (see it in MyBinder) as an example of how to collect the data, producing a single JSON file per data source, with all items (commits, issues, pull/merge requests) in it. Produce one notebook per data source (git, GitHub/GitLab issues, GitHub pull requests / GitLab merge requests) showing a summary of the contents of that file (number of items in it, and number of different identities in it counting authors/committers for git, submitters for issues and pull/merge requests). This microtask is mandatory, to show that you can retrieve data and produde a notebook showing it. In each notebook, include also the list of repositories retrieved, and the date of retrieval, using data available in the JSON file."
   ]
  },
  {
   "cell_type": "markdown",
   "metadata": {},
   "source": [
    "### Project: django\n",
    "\n",
    "### Repositories"
   ]
  },
  {
   "cell_type": "code",
   "execution_count": 4,
   "metadata": {},
   "outputs": [],
   "source": [
    "import json\n",
    "import datetime\n"
   ]
  },
  {
   "cell_type": "markdown",
   "metadata": {
    "scrolled": true
   },
   "source": [
    "### Getting the data"
   ]
  },
  {
   "cell_type": "code",
   "execution_count": 1,
   "metadata": {},
   "outputs": [
    {
     "name": "stdout",
     "output_type": "stream",
     "text": [
      "['https://github.com/django/djangoproject.com']\n"
     ]
    }
   ],
   "source": [
    "github_url = \"https://github.com/\"\n",
    "owner = \"django\"\n",
    "repos_used = [\"djangoproject.com\"]\n",
    "repo_urls = [github_url + owner + \"/\" + repo_used for repo_used in repos_used]\n",
    "auth_token = \" \"\n",
    "print(repo_urls)\n",
    "\n"
   ]
  },
  {
   "cell_type": "code",
   "execution_count": null,
   "metadata": {},
   "outputs": [
    {
     "name": "stdout",
     "output_type": "stream",
     "text": [
      "djangoproject.com https://github.com/django/djangoproject.com\n",
      "[2019-03-18 14:38:25,801] - Sir Perceval is on his quest.\n",
      "[2019-03-18 14:45:00,932] - Fetching commits: 'https://github.com/django/djangoproject.com' git repository from 1970-01-01 00:00:00+00:00 to 2100-01-01 00:00:00+00:00; all branches\n",
      "[2019-03-18 14:45:05,484] - Fetch process completed: 2231 commits fetched\n",
      "[2019-03-18 14:45:05,484] - Sir Perceval completed his quest.\n",
      "...\n",
      "[2019-03-18 14:45:05,935] - Sir Perceval is on his quest.\n",
      "[2019-03-18 14:45:07,383] - Rate limit exhausted. Waiting 3657 secs for rate limit reset.\n"
     ]
    }
   ],
   "source": [
    "for repo, repo_url in zip(repos_used, repo_urls):\n",
    "    print(repo, repo_url)\n",
    "    !perceval git --json-line $repo_url >> repodata.json\n",
    "    print(\"...\")\n",
    "    !perceval github  --json-line --sleep-for-rate --category pull_request $owner $repo >> repodata.json\n",
    "    print(\"...\")\n",
    "    !perceval github  --json-line --sleep-for-rate --category issue $owner $repo >> repodata.json\n",
    "    print(\"...\")"
   ]
  },
  {
   "cell_type": "code",
   "execution_count": null,
   "metadata": {},
   "outputs": [],
   "source": [
    "class Code_Changes:\n",
    "    \n",
    "    def __init__(self, path_to_file):\n",
    "        \n",
    "        # this will emulate a pandas dataframe \n",
    "        self.commits_data = dict(list)\n",
    "        \n",
    "        with open(path_to_file) as jsonfile:\n",
    "            \n",
    "            for line in jsonfile:\n",
    "                \n",
    "                # the commit_breakdown method is designed for commits only\n",
    "                if line['category'] == \"commit\":\n",
    "                    commit = json.loads(line)\n",
    "                    for col, val in _get_commit_breakdown(commit)).items():\n",
    "                        self.commits_data[col].append = val\n",
    "\n",
    "    \n",
    "    def _get_commit_breakdown(commit):\n",
    "        repo_name = commit['origin']\n",
    "        repo_data = commit['data']\n",
    "        \n",
    "        commit_breakdown = {\n",
    "            \"repo_name\" = repo_name,\n",
    "            \"hash\": repo_data['commit'],\n",
    "            \"commit_auth\": repo_data['author']\n",
    "            'author_date': datetime.datetime.strptime(repo_data['AuthorDate'],\n",
    "                                                      \"%a %b %d %H:%M:%S %Y %z\"),\n",
    "            'commit': cdata['Commit'],\n",
    "            'commit_date': datetime.datetime.strptime(repo_data['CommitDate'],\n",
    "                                                      \"%a %b %d %H:%M:%S %Y %z\"),\n",
    "            'files_no': len(repo_data['files'])\n",
    "        }\n",
    "        \n",
    "        actions = 0\n",
    "        for file in repo_data['files']:\n",
    "            if 'action' in file:\n",
    "                actions += 1\n",
    "        commit_breakdown['files_action'] = actions\n",
    "        if 'Merge' in repo_data:\n",
    "            commit_breakdown['merge'] = True\n",
    "        else:\n",
    "            commit_breakdown['merge'] = False\n",
    "            \n",
    "            \n",
    "        return commit_breakdown\n",
    "    \n",
    "    \n",
    "    def number_of_repos(self):\n",
    "        return len(repos_used)\n",
    "    \n",
    "    def total_commits(self):\n",
    "        return len(self.commits_data)\n",
    "    \n",
    "    def total_commits_per_repo(self):\n",
    "        commits_per_repo = dict()\n",
    "        \n",
    "        for repo in commits_data['repo_name']:\n",
    "            commits_per_repo[repo] += 1\n",
    "    \n",
    "        return commits_per_repo\n",
    "    \n",
    "    def count_from_to(self, start=None, end=None, type_of_date=None):\n",
    "        \n",
    "        count = 0\n",
    "        \n",
    "        if start == None:\n",
    "            if end == None:\n",
    "                return self.total_commits()\n",
    "            \n",
    "            for key, val in commits_data.items():\n",
    "                if \n",
    "                \n",
    "            \n",
    "            \n",
    "        \n",
    "        \n",
    "    "
   ]
  },
  {
   "cell_type": "code",
   "execution_count": null,
   "metadata": {},
   "outputs": [],
   "source": [
    "a = dict(list)\n",
    "\n",
    "print(a)"
   ]
  },
  {
   "cell_type": "code",
   "execution_count": null,
   "metadata": {},
   "outputs": [],
   "source": [
    "\n"
   ]
  }
 ],
 "metadata": {
  "kernelspec": {
   "display_name": "Python 3",
   "language": "python",
   "name": "python3"
  },
  "language_info": {
   "codemirror_mode": {
    "name": "ipython",
    "version": 3
   },
   "file_extension": ".py",
   "mimetype": "text/x-python",
   "name": "python",
   "nbconvert_exporter": "python",
   "pygments_lexer": "ipython3",
   "version": "3.6.7"
  }
 },
 "nbformat": 4,
 "nbformat_minor": 2
}
