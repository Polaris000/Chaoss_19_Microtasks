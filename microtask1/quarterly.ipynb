{
 "cells": [
  {
   "cell_type": "code",
   "execution_count": null,
   "metadata": {},
   "outputs": [],
   "source": []
  },
  {
   "cell_type": "code",
   "execution_count": null,
   "metadata": {},
   "outputs": [],
   "source": []
  },
  {
   "cell_type": "code",
   "execution_count": 38,
   "metadata": {},
   "outputs": [],
   "source": [
    "import json\n",
    "import csv\n",
    "import datetime\n",
    "from collections import defaultdict"
   ]
  },
  {
   "cell_type": "code",
   "execution_count": 39,
   "metadata": {},
   "outputs": [],
   "source": [
    "start_year = 2017\n",
    "end_year = 2018 #included\n",
    "\n",
    "\n",
    "quad1_dates = {\n",
    "    \"start_date\": \"01-01\",\n",
    "    \"end_date\": \"03-31\"\n",
    "}\n",
    "\n",
    "quad2_dates = {\n",
    "    \"start_date\": \"04-01\",\n",
    "    \"end_date\": \"06-30\"\n",
    "}\n",
    "\n",
    "quad3_dates = {\n",
    "    \"start_date\": \"07-01\",\n",
    "    \"end_date\": \"09-30\"\n",
    "}\n",
    "\n",
    "quad4_dates = {\n",
    "    \"start_date\": \"10-01\",\n",
    "    \"end_date\": \"12-31\"\n",
    "}\n",
    "\n",
    "\n",
    "covered_committers = set()\n",
    "covered_issue_sub = set()\n",
    "covered_pr_sub = set()"
   ]
  },
  {
   "cell_type": "code",
   "execution_count": 49,
   "metadata": {},
   "outputs": [],
   "source": [
    "class Quadrant:\n",
    "    \n",
    "    def __init__(self, number, year):\n",
    "        self.number = number\n",
    "        self.year = year\n",
    "        self.num_commits = 0\n",
    "        self.new_committers = 0\n",
    "        self.new_issue_subs = 0\n",
    "        self.new_pr_subs = 0\n",
    "        self.num_pullrequests = 0\n",
    "        self.num_issues = 0\n",
    "        self.start_date = \"\"\n",
    "        self.end_date = \"\"\n",
    "        \n",
    "        if self.number == 1:\n",
    "            self.start_date = str(self.year) + '-' + quad1_dates[\"start_date\"]\n",
    "            self.end_date = str(self.year) + '-' + quad1_dates[\"end_date\"]\n",
    "            \n",
    "        if self.number == 2:\n",
    "            self.start_date = str(self.year) + '-' + quad2_dates[\"start_date\"]\n",
    "            self.end_date = str(self.year) + '-' + quad3_dates[\"end_date\"]            \n",
    "            \n",
    "        if self.number == 3:\n",
    "            self.start_date = str(self.year) + '-' + quad3_dates[\"start_date\"]\n",
    "            self.end_date = str(self.year) + '-' + quad3_dates[\"end_date\"]\n",
    "            \n",
    "        if self.number == 4:\n",
    "            self.start_date = str(self.year) + '-' + quad4_dates[\"start_date\"]\n",
    "            self.end_date = str(self.year) + '-' + quad4_dates[\"end_date\"]\n",
    "        \n",
    "            \n",
    "            \n",
    "    def is_includes_date(date):\n",
    "        if self._str_to_dt(self.start_date) <= self._str_to_dt(date) < self._str_to_dt(self.end_date):\n",
    "            return True\n",
    "\n",
    "        return False\n",
    "    \n",
    "    @staticmethod\n",
    "    def _str_to_dt(date):\n",
    "        return datetime.datetime.strptime(date, \"%Y-%m-%d\")\n",
    "    \n",
    "    def __str__(self):\n",
    "        return str(self.number) + \" \" + str(self.year)"
   ]
  },
  {
   "cell_type": "code",
   "execution_count": null,
   "metadata": {},
   "outputs": [],
   "source": []
  },
  {
   "cell_type": "code",
   "execution_count": 50,
   "metadata": {},
   "outputs": [],
   "source": [
    "class CleanJson():   \n",
    "    \n",
    "    def __init__(self, path_to_file):\n",
    "        \n",
    "        self.clean_data = defaultdict(list)\n",
    "        \n",
    "        with open(path_to_file, 'r') as raw_data:\n",
    "            for line in raw_data:\n",
    "                line = json.loads(line)\n",
    "\n",
    "                if line['category'] == \"commit\":\n",
    "                    line = self._clean_commit(line)\n",
    "\n",
    "                if line['category'] == \"issue\":\n",
    "                    line = self._clean_issue(line)\n",
    "\n",
    "                if line['category'] == \"pull_request\":\n",
    "                    line = self._clean_pr(line)\n",
    "\n",
    "                for col, val in line.items():\n",
    "                    clean_data[col].append(val)\n",
    "                    \n",
    "        return clean_data\n",
    "\n",
    "              \n",
    "    def _clean_commit(self, line):\n",
    "        pass # microtask0 func\n",
    "    \n",
    "    def _clean_issue(self, line):\n",
    "        pass # microtask0 func\n",
    "                \n",
    "    def _clean_pr(self, line):\n",
    "        pass # microtask0 func\n",
    "    \n",
    "    \n",
    "    \n",
    "    "
   ]
  },
  {
   "cell_type": "code",
   "execution_count": 55,
   "metadata": {},
   "outputs": [
    {
     "name": "stdout",
     "output_type": "stream",
     "text": [
      "1 2017\n",
      "2 2017\n",
      "3 2017\n",
      "4 2017\n",
      "1 2018\n",
      "2 2018\n",
      "3 2018\n",
      "4 2018\n"
     ]
    }
   ],
   "source": [
    "year_list = [x for x in range(start_year, end_year + 1)]\n",
    "quad_list = [Quadrant(num, year)  for year in year_list for num in range(1, 5)]"
   ]
  },
  {
   "cell_type": "code",
   "execution_count": 25,
   "metadata": {},
   "outputs": [
    {
     "ename": "NameError",
     "evalue": "name 'path' is not defined",
     "output_type": "error",
     "traceback": [
      "\u001b[0;31m---------------------------------------------------------------------------\u001b[0m",
      "\u001b[0;31mNameError\u001b[0m                                 Traceback (most recent call last)",
      "\u001b[0;32m<ipython-input-25-97585d45db66>\u001b[0m in \u001b[0;36m<module>\u001b[0;34m\u001b[0m\n\u001b[0;32m----> 1\u001b[0;31m \u001b[0mclean_data\u001b[0m \u001b[0;34m=\u001b[0m \u001b[0mCleanJson\u001b[0m\u001b[0;34m(\u001b[0m\u001b[0mpath\u001b[0m\u001b[0;34m)\u001b[0m\u001b[0;34m\u001b[0m\u001b[0;34m\u001b[0m\u001b[0m\n\u001b[0m",
      "\u001b[0;31mNameError\u001b[0m: name 'path' is not defined"
     ]
    }
   ],
   "source": [
    "clean_data = CleanJson(path)"
   ]
  },
  {
   "cell_type": "code",
   "execution_count": null,
   "metadata": {},
   "outputs": [],
   "source": [
    "for key, val in clean_data.items():\n",
    "    if "
   ]
  }
 ],
 "metadata": {
  "kernelspec": {
   "display_name": "Python 3",
   "language": "python",
   "name": "python3"
  },
  "language_info": {
   "codemirror_mode": {
    "name": "ipython",
    "version": 3
   },
   "file_extension": ".py",
   "mimetype": "text/x-python",
   "name": "python",
   "nbconvert_exporter": "python",
   "pygments_lexer": "ipython3",
   "version": "3.6.7"
  }
 },
 "nbformat": 4,
 "nbformat_minor": 2
}
