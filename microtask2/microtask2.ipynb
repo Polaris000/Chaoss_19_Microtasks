{
 "cells": [
  {
   "cell_type": "markdown",
   "metadata": {},
   "source": [
    "# Microtask 2\n",
    "\n"
   ]
  },
  {
   "cell_type": "code",
   "execution_count": 89,
   "metadata": {},
   "outputs": [],
   "source": [
    "import json\n",
    "import csv\n",
    "import datetime\n",
    "from collections import defaultdict\n",
    "import pandas as pd"
   ]
  },
  {
   "cell_type": "code",
   "execution_count": 94,
   "metadata": {},
   "outputs": [],
   "source": [
    "# Here both start year and end year are included\n",
    "start_year = 2017\n",
    "end_year = 2018 \n",
    "\n",
    "quar1_dates = {\"start_date\": \"01-01\", \"end_date\": \"03-31\"}\n",
    "quar2_dates = {\"start_date\": \"04-01\", \"end_date\": \"06-30\"}\n",
    "quar3_dates = {\"start_date\": \"07-01\", \"end_date\": \"09-30\"}\n",
    "quar4_dates = {\"start_date\": \"10-01\", \"end_date\": \"12-31\"}\n",
    "\n",
    "old_committers = set()\n",
    "old_issue_subs = set()\n",
    "old_pr_subs = set()"
   ]
  },
  {
   "cell_type": "code",
   "execution_count": 95,
   "metadata": {},
   "outputs": [],
   "source": [
    "class Quarter:\n",
    "    \n",
    "    def __init__(self, number, year):\n",
    "        self.number = number    #.\n",
    "        self.year = year   \n",
    "   \n",
    "        self.num_commits = 0  \n",
    "        self.num_issues = 0\n",
    "        self.num_pullrequests = 0\n",
    "        \n",
    "        self.new_committers = 0\n",
    "        self.new_issue_subs = 0\n",
    "        self.new_pr_subs = 0\n",
    "        \n",
    "        self.start_date = \"\"\n",
    "        self.end_date = \"\"\n",
    "        \n",
    "        if self.number == 1:\n",
    "            self.start_date = str(self.year) + '-' + quar1_dates[\"start_date\"]\n",
    "            self.end_date = str(self.year) + '-' + quar1_dates[\"end_date\"]\n",
    "            \n",
    "        if self.number == 2:\n",
    "            self.start_date = str(self.year) + '-' + quar2_dates[\"start_date\"]\n",
    "            self.end_date = str(self.year) + '-' + quar3_dates[\"end_date\"]            \n",
    "            \n",
    "        if self.number == 3:\n",
    "            self.start_date = str(self.year) + '-' + quar3_dates[\"start_date\"]\n",
    "            self.end_date = str(self.year) + '-' + quar3_dates[\"end_date\"]\n",
    "            \n",
    "        if self.number == 4:\n",
    "            self.start_date = str(self.year) + '-' + quar4_dates[\"start_date\"]\n",
    "            self.end_date = str(self.year) + '-' + quar4_dates[\"end_date\"]\n",
    "        \n",
    "            \n",
    "    def is_includes_data(self, date):\n",
    "        if self._str_to_dt_quarter(self.start_date) <= self._str_to_dt_data(date) < self._str_to_dt_quarter(self.end_date):\n",
    "            return True\n",
    "\n",
    "        return False\n",
    "    \n",
    "    def add_analysis(self, datapoint):\n",
    "        print(\"hash\", datapoint['hash'])\n",
    "        if datapoint['category'] == \"commit\":\n",
    "            self.num_commits += 1 \n",
    "            \n",
    "            if datapoint['author'] not in old_committers:\n",
    "                self.new_committers += 1\n",
    "                \n",
    "            old_committers.add(datapoint['author'])\n",
    "            \n",
    "                \n",
    "        if datapoint['category'] == \"issue\":\n",
    "            self.num_issues += 1 \n",
    "            \n",
    "            if datapoint['author'] not in old_issue_subs:\n",
    "                self.new_issue_subs += 1\n",
    "                \n",
    "            old_issue_subs.add(datapoint['author'])\n",
    "            \n",
    "                \n",
    "        if datapoint['category'] == \"pull_request\":\n",
    "            self.num_pullrequests += 1 \n",
    "            \n",
    "            if datapoint['author'] not in old_pr_subs:\n",
    "                self.new_pr_subs += 1\n",
    "                \n",
    "            old_pr_subs.add(datapoint['author'])\n",
    "    \n",
    "    @staticmethod\n",
    "    def _str_to_dt_data(date):\n",
    "        try:\n",
    "            datetimestr =  datetime.datetime.strptime(date, \"%a %b %d %H:%M:%S %Y %z\").strftime(\"%Y-%m-%d\")\n",
    "            \n",
    "        \n",
    "        except ValueError as ve:\n",
    "            datetimestr =  datetime.datetime.strptime(date, \"%Y-%m-%dT%H:%M:%SZ\").strftime(\"%Y-%m-%d\")\n",
    "        \n",
    "        finally:\n",
    "            datetimeobj = datetime.datetime.strptime(datetimestr, \"%Y-%m-%d\")\n",
    "            return datetimeobj\n",
    "    \n",
    "#     @staticmethod\n",
    "#     def _str_to_dt_issue(date):\n",
    "        \n",
    "#         datetimestr =  datetime.datetime.strptime(date, \"%Y-%m-%dT%H:%M:%SZ\").strftime(\"%Y-%m-%d\")\n",
    "#         datetimeobj = datetime.datetime.strptime(datetimestr, \"%Y-%m-%d\")\n",
    "#         return datetimeobj\n",
    "    \n",
    "        \n",
    "    @staticmethod\n",
    "    def _str_to_dt_quarter(date):\n",
    "        \n",
    "        datetimeobj =  datetime.datetime.strptime(date, \"%Y-%m-%d\")\n",
    "        return datetimeobj\n",
    "    \n",
    "    def __str__(self):\n",
    "        return str(self.number) + \" \" + str(self.year)"
   ]
  },
  {
   "cell_type": "code",
   "execution_count": null,
   "metadata": {},
   "outputs": [],
   "source": []
  },
  {
   "cell_type": "code",
   "execution_count": null,
   "metadata": {},
   "outputs": [],
   "source": []
  },
  {
   "cell_type": "code",
   "execution_count": 121,
   "metadata": {},
   "outputs": [],
   "source": [
    "class CleanJson():   \n",
    "    \n",
    "    def __init__(self, path_to_file):\n",
    "\n",
    "        clean_commit_list = list()\n",
    "        clean_issue_list = list()\n",
    "        clean_pr_list = list()\n",
    "        \n",
    "        with open(path_to_file, 'r') as raw_data:\n",
    "            for line in raw_data:\n",
    "                line = json.loads(line)\n",
    "                \n",
    "                clean_line = dict()\n",
    "                if line['category'] == \"commit\":\n",
    "                    clean_line = self._clean_commit(line)\n",
    "                    clean_commit_list.append(clean_line)\n",
    "                    \n",
    "\n",
    "                elif line['category'] == \"issue\":\n",
    "                    clean_line = self._clean_issue(line)\n",
    "                    clean_issue_list.append(clean_line)\n",
    "                    \n",
    "\n",
    "                elif line['category'] == \"pull_request\":\n",
    "                    clean_line = self._clean_pr(line)\n",
    "                    clean_pr_list.append(clean_line)\n",
    "                        \n",
    "                        \n",
    "                self.clean_commit_df = pd.DataFrame(clean_commit_list)\n",
    "                self.clean_issue_df = pd.DataFrame(clean_issue_list)\n",
    "                self.clean_pr_df = pd.DataFrame(clean_pr_list)\n",
    "                \n",
    "            self.clean_dict = {\n",
    "                'commit': self.clean_commit_df,\n",
    "                'issue': self.clean_issue_df,\n",
    "                'pull_request': self.clean_pr_df\n",
    "            }\n",
    "\n",
    "    @staticmethod\n",
    "    def _clean_commit(line):\n",
    "            repo_name = line['origin']\n",
    "            line_data = line['data']\n",
    "            cleaned_line = {\n",
    "                'repo': repo_name,\n",
    "                'hash': line_data['commit'],\n",
    "                'category': \"commit\",\n",
    "                'commit': line_data['Commit'],\n",
    "                'author': line_data['Author'],\n",
    "                'created_date': line_data['CommitDate'],\n",
    "                'files_no': len(line_data['files'])\n",
    "            }\n",
    "\n",
    "            actions = 0\n",
    "\n",
    "            for file in line_data['files']:\n",
    "                if 'action' in file:\n",
    "                    actions += 1\n",
    "                    cleaned_line['files_action'] = actions\n",
    "                    cleaned_line['merge'] = 'Merge' in line_data\n",
    "            return cleaned_line\n",
    "\n",
    "    @staticmethod\n",
    "    def _clean_issue(line):\n",
    "        repo_name = line['origin']\n",
    "        line_data = line['data']\n",
    "        cleaned_line ={\n",
    "            'repo': repo_name,\n",
    "            'hash': line_data['id'],\n",
    "            'category': \"issue\",\n",
    "            'author': line_data['user']['login'],\n",
    "            'created_date': line_data['created_at'],\n",
    "            'current_status': line_data['state']   \n",
    "        }\n",
    "\n",
    "        return cleaned_line\n",
    "\n",
    "    @staticmethod\n",
    "    def _clean_pr(line):\n",
    "        repo_name = line['origin']\n",
    "        line_data = line['data']\n",
    "        cleaned_line ={\n",
    "            'repo': repo_name,\n",
    "            'hash': line_data['id'],\n",
    "            'category': \"pull_request\",\n",
    "            'author': line_data['user']['login'],\n",
    "            'created_date': line_data['created_at'],\n",
    "            'current_status': line_data['state']   \n",
    "        }\n",
    "\n",
    "        return cleaned_line\n",
    "    "
   ]
  },
  {
   "cell_type": "code",
   "execution_count": 122,
   "metadata": {},
   "outputs": [
    {
     "name": "stdout",
     "output_type": "stream",
     "text": [
      "4066 ../../progit.json\r\n"
     ]
    }
   ],
   "source": [
    "year_list = [x for x in range(start_year, end_year + 1)]\n",
    "quar_list = [Quarter(num, year)  for year in year_list for num in range(1, 5)]"
   ]
  },
  {
   "cell_type": "code",
   "execution_count": 123,
   "metadata": {},
   "outputs": [],
   "source": [
    "clean_data = CleanJson('../../progit.json')"
   ]
  },
  {
   "cell_type": "code",
   "execution_count": 1,
   "metadata": {},
   "outputs": [
    {
     "ename": "NameError",
     "evalue": "name 'clean_data' is not defined",
     "output_type": "error",
     "traceback": [
      "\u001b[0;31m------------------------------------------------------------------\u001b[0m",
      "\u001b[0;31mNameError\u001b[0m                        Traceback (most recent call last)",
      "\u001b[0;32m<ipython-input-1-8f38c8c54791>\u001b[0m in \u001b[0;36m<module>\u001b[0;34m\u001b[0m\n\u001b[0;32m----> 1\u001b[0;31m \u001b[0;32mfor\u001b[0m \u001b[0mdf\u001b[0m \u001b[0;32min\u001b[0m \u001b[0;34m(\u001b[0m\u001b[0mclean_data\u001b[0m\u001b[0;34m.\u001b[0m\u001b[0mclean_list\u001b[0m\u001b[0;34m)\u001b[0m\u001b[0;34m:\u001b[0m\u001b[0;34m\u001b[0m\u001b[0;34m\u001b[0m\u001b[0m\n\u001b[0m\u001b[1;32m      2\u001b[0m     \u001b[0mdata\u001b[0m \u001b[0;34m=\u001b[0m \u001b[0mdf\u001b[0m\u001b[0;34m\u001b[0m\u001b[0;34m\u001b[0m\u001b[0m\n\u001b[1;32m      3\u001b[0m     \u001b[0;32mfor\u001b[0m \u001b[0mquarter\u001b[0m \u001b[0;32min\u001b[0m \u001b[0mquar_list\u001b[0m\u001b[0;34m:\u001b[0m\u001b[0;34m\u001b[0m\u001b[0;34m\u001b[0m\u001b[0m\n\u001b[1;32m      4\u001b[0m \u001b[0;34m\u001b[0m\u001b[0m\n\u001b[1;32m      5\u001b[0m         \u001b[0;32mfor\u001b[0m \u001b[0mindex\u001b[0m\u001b[0;34m,\u001b[0m \u001b[0mdata_point\u001b[0m \u001b[0;32min\u001b[0m \u001b[0mdata\u001b[0m\u001b[0;34m.\u001b[0m\u001b[0miterrows\u001b[0m\u001b[0;34m(\u001b[0m\u001b[0;34m)\u001b[0m\u001b[0;34m:\u001b[0m\u001b[0;34m\u001b[0m\u001b[0;34m\u001b[0m\u001b[0m\n",
      "\u001b[0;31mNameError\u001b[0m: name 'clean_data' is not defined"
     ]
    }
   ],
   "source": [
    "for df in (clean_data.clean_list):\n",
    "    data = df\n",
    "    for quarter in quar_list:\n",
    "        \n",
    "        for index, data_point in data.iterrows():\n",
    "            \n",
    "            data_point = pd.Series.to_dict(data_point)\n",
    "            if quarter.is_includes_data(data_point[\"created_date\"]):\n",
    "                quarter.add_analysis(data_point)\n"
   ]
  },
  {
   "cell_type": "markdown",
   "metadata": {},
   "source": [
    "# Analysis\n",
    "\n"
   ]
  },
  {
   "cell_type": "markdown",
   "metadata": {},
   "source": [
    "## Number of commits, pull requests and issues per quadrant"
   ]
  },
  {
   "cell_type": "code",
   "execution_count": 2,
   "metadata": {},
   "outputs": [
    {
     "ename": "NameError",
     "evalue": "name 'quar_list' is not defined",
     "output_type": "error",
     "traceback": [
      "\u001b[0;31m------------------------------------------------------------------\u001b[0m",
      "\u001b[0;31mNameError\u001b[0m                        Traceback (most recent call last)",
      "\u001b[0;32m<ipython-input-2-2ef780a80ff7>\u001b[0m in \u001b[0;36m<module>\u001b[0;34m\u001b[0m\n\u001b[0;32m----> 1\u001b[0;31m \u001b[0;32mfor\u001b[0m \u001b[0mq\u001b[0m \u001b[0;32min\u001b[0m \u001b[0mquar_list\u001b[0m\u001b[0;34m:\u001b[0m\u001b[0;34m\u001b[0m\u001b[0;34m\u001b[0m\u001b[0m\n\u001b[0m\u001b[1;32m      2\u001b[0m     print(\"Quarter num and year: \" ,q,    \n\u001b[1;32m      3\u001b[0m           \u001b[0;34m\" \\n commits: \"\u001b[0m\u001b[0;34m,\u001b[0m \u001b[0mq\u001b[0m\u001b[0;34m.\u001b[0m\u001b[0mnum_commits\u001b[0m\u001b[0;34m,\u001b[0m\u001b[0;34m\u001b[0m\u001b[0;34m\u001b[0m\u001b[0m\n\u001b[1;32m      4\u001b[0m           \u001b[0;34m\" \\n issues: \"\u001b[0m\u001b[0;34m,\u001b[0m \u001b[0mq\u001b[0m\u001b[0;34m.\u001b[0m\u001b[0mnum_issues\u001b[0m\u001b[0;34m,\u001b[0m\u001b[0;34m\u001b[0m\u001b[0;34m\u001b[0m\u001b[0m\n\u001b[1;32m      5\u001b[0m           \" \\n pull requests: \", q.num_pullrequests)\n",
      "\u001b[0;31mNameError\u001b[0m: name 'quar_list' is not defined"
     ]
    }
   ],
   "source": [
    "for q in quar_list:\n",
    "    print(\"Quarter num and year: \" ,q,    \n",
    "          \" \\n commits: \", q.num_commits,\n",
    "          \" \\n issues: \", q.num_issues, \n",
    "          \" \\n pull requests: \", q.num_pullrequests)"
   ]
  },
  {
   "cell_type": "markdown",
   "metadata": {},
   "source": [
    "## Number of new committers, new issue submitters and pull request creators"
   ]
  },
  {
   "cell_type": "code",
   "execution_count": 127,
   "metadata": {},
   "outputs": [
    {
     "name": "stdout",
     "output_type": "stream",
     "text": [
      "1 2017 7\n",
      "2 2017 5\n",
      "3 2017 0\n",
      "4 2017 4\n",
      "1 2018 8\n",
      "2 2018 6\n",
      "3 2018 0\n",
      "4 2018 1\n"
     ]
    }
   ],
   "source": [
    "for q in quar_list:\n",
    "    print(\"Quarter num and year: \" ,q,    \n",
    "          \" \\n new committers: \", q.new_committers,\n",
    "          \" \\n new issue submitters: \", q.new_issue_subs, \n",
    "          \" \\n new pull request creators: \", q.new_pr_subs)"
   ]
  },
  {
   "cell_type": "markdown",
   "metadata": {},
   "source": [
    "# Viewing data as a csv file\n",
    "This part is almost completely the same as microtask 1, except for the part where a table is created using the csv file. "
   ]
  },
  {
   "cell_type": "markdown",
   "metadata": {},
   "source": [
    "## Writing the cleaned data to a csv"
   ]
  },
  {
   "cell_type": "code",
   "execution_count": 128,
   "metadata": {},
   "outputs": [],
   "source": [
    "def write_to_csv(file_path):\n",
    "    with open(file_path, 'w', ) as csvfile:\n",
    "        csv_writer = csv.writer(csvfile, delimiter=',')\n",
    "        \n",
    "        file_headers = [\"Quarter(Num)\", \"Quarter(Year)\", \"Num_Commits\", \"Num_Issues\", \"Num_PRs\", \"Num_new_commits\", \"Num_new_issues\", \"Num_new_prs\"]\n",
    "        csv_writer.writerow(file_headers)\n",
    "        \n",
    "        for quar in quar_list:\n",
    "            row = [str(quar.number),         \\\n",
    "                 str(quar.year),             \\\n",
    "                 str(quar.num_commits) ,     \\\n",
    "                 str(quar.num_issues)  ,     \\\n",
    "                 str(quar.num_pullrequests), \\\n",
    "                 str(quar.new_committers),   \\\n",
    "                 str(quar.new_issue_subs),   \\\n",
    "                 str(quar.new_pr_subs)       \n",
    "                  ]\n",
    "            csv_writer.writerow(x for x in row)"
   ]
  },
  {
   "cell_type": "code",
   "execution_count": 132,
   "metadata": {},
   "outputs": [],
   "source": [
    "write_to_csv(\"./progit.csv\")"
   ]
  },
  {
   "cell_type": "markdown",
   "metadata": {},
   "source": [
    "## Displaying a table based on the csv file\n",
    "Instead of the csv.reader used in microtask1, the `pandas.read_csv()` is used to populate a dataframe, which is displayed below:"
   ]
  },
  {
   "cell_type": "code",
   "execution_count": 135,
   "metadata": {},
   "outputs": [
    {
     "data": {
      "text/html": [
       "<div>\n",
       "<style scoped>\n",
       "    .dataframe tbody tr th:only-of-type {\n",
       "        vertical-align: middle;\n",
       "    }\n",
       "\n",
       "    .dataframe tbody tr th {\n",
       "        vertical-align: top;\n",
       "    }\n",
       "\n",
       "    .dataframe thead th {\n",
       "        text-align: right;\n",
       "    }\n",
       "</style>\n",
       "<table border=\"1\" class=\"dataframe\">\n",
       "  <thead>\n",
       "    <tr style=\"text-align: right;\">\n",
       "      <th></th>\n",
       "      <th>Quarter(Num)</th>\n",
       "      <th>Quarter(Year)</th>\n",
       "      <th>Num_Commits</th>\n",
       "      <th>Num_Issues</th>\n",
       "      <th>Num_PRs</th>\n",
       "      <th>Num_new_commits</th>\n",
       "      <th>Num_new_issues</th>\n",
       "      <th>Num_new_prs</th>\n",
       "    </tr>\n",
       "  </thead>\n",
       "  <tbody>\n",
       "    <tr>\n",
       "      <th>0</th>\n",
       "      <td>1</td>\n",
       "      <td>2017</td>\n",
       "      <td>13</td>\n",
       "      <td>8</td>\n",
       "      <td>4</td>\n",
       "      <td>7</td>\n",
       "      <td>7</td>\n",
       "      <td>4</td>\n",
       "    </tr>\n",
       "    <tr>\n",
       "      <th>1</th>\n",
       "      <td>2</td>\n",
       "      <td>2017</td>\n",
       "      <td>9</td>\n",
       "      <td>12</td>\n",
       "      <td>8</td>\n",
       "      <td>5</td>\n",
       "      <td>9</td>\n",
       "      <td>7</td>\n",
       "    </tr>\n",
       "    <tr>\n",
       "      <th>2</th>\n",
       "      <td>3</td>\n",
       "      <td>2017</td>\n",
       "      <td>5</td>\n",
       "      <td>8</td>\n",
       "      <td>5</td>\n",
       "      <td>0</td>\n",
       "      <td>0</td>\n",
       "      <td>0</td>\n",
       "    </tr>\n",
       "    <tr>\n",
       "      <th>3</th>\n",
       "      <td>4</td>\n",
       "      <td>2017</td>\n",
       "      <td>11</td>\n",
       "      <td>8</td>\n",
       "      <td>7</td>\n",
       "      <td>4</td>\n",
       "      <td>4</td>\n",
       "      <td>3</td>\n",
       "    </tr>\n",
       "    <tr>\n",
       "      <th>4</th>\n",
       "      <td>1</td>\n",
       "      <td>2018</td>\n",
       "      <td>18</td>\n",
       "      <td>12</td>\n",
       "      <td>7</td>\n",
       "      <td>8</td>\n",
       "      <td>9</td>\n",
       "      <td>6</td>\n",
       "    </tr>\n",
       "    <tr>\n",
       "      <th>5</th>\n",
       "      <td>2</td>\n",
       "      <td>2018</td>\n",
       "      <td>19</td>\n",
       "      <td>16</td>\n",
       "      <td>12</td>\n",
       "      <td>6</td>\n",
       "      <td>9</td>\n",
       "      <td>8</td>\n",
       "    </tr>\n",
       "    <tr>\n",
       "      <th>6</th>\n",
       "      <td>3</td>\n",
       "      <td>2018</td>\n",
       "      <td>3</td>\n",
       "      <td>4</td>\n",
       "      <td>4</td>\n",
       "      <td>0</td>\n",
       "      <td>0</td>\n",
       "      <td>0</td>\n",
       "    </tr>\n",
       "    <tr>\n",
       "      <th>7</th>\n",
       "      <td>4</td>\n",
       "      <td>2018</td>\n",
       "      <td>4</td>\n",
       "      <td>6</td>\n",
       "      <td>2</td>\n",
       "      <td>1</td>\n",
       "      <td>5</td>\n",
       "      <td>1</td>\n",
       "    </tr>\n",
       "  </tbody>\n",
       "</table>\n",
       "</div>"
      ],
      "text/plain": [
       "   Quarter(Num)  Quarter(Year)  Num_Commits  Num_Issues  Num_PRs  \\\n",
       "0             1           2017           13           8        4   \n",
       "1             2           2017            9          12        8   \n",
       "2             3           2017            5           8        5   \n",
       "3             4           2017           11           8        7   \n",
       "4             1           2018           18          12        7   \n",
       "5             2           2018           19          16       12   \n",
       "6             3           2018            3           4        4   \n",
       "7             4           2018            4           6        2   \n",
       "\n",
       "   Num_new_commits  Num_new_issues  Num_new_prs  \n",
       "0                7               7            4  \n",
       "1                5               9            7  \n",
       "2                0               0            0  \n",
       "3                4               4            3  \n",
       "4                8               9            6  \n",
       "5                6               9            8  \n",
       "6                0               0            0  \n",
       "7                1               5            1  "
      ]
     },
     "execution_count": 135,
     "metadata": {},
     "output_type": "execute_result"
    }
   ],
   "source": [
    "pd.read_csv('./progit.csv')"
   ]
  }
 ],
 "metadata": {
  "kernelspec": {
   "display_name": "Python 3",
   "language": "python",
   "name": "python3"
  },
  "language_info": {
   "codemirror_mode": {
    "name": "ipython",
    "version": 3
   },
   "file_extension": ".py",
   "mimetype": "text/x-python",
   "name": "python",
   "nbconvert_exporter": "python",
   "pygments_lexer": "ipython3",
   "version": "3.6.7"
  }
 },
 "nbformat": 4,
 "nbformat_minor": 2
}
