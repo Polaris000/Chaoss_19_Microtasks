{
 "cells": [
  {
   "cell_type": "markdown",
   "metadata": {},
   "source": [
    "# Microtask 2\n",
    "\n"
   ]
  },
  {
   "cell_type": "code",
   "execution_count": 89,
   "metadata": {},
   "outputs": [],
   "source": [
    "import json\n",
    "import csv\n",
    "import datetime\n",
    "from collections import defaultdict\n",
    "import pandas as pd"
   ]
  },
  {
   "cell_type": "code",
   "execution_count": 94,
   "metadata": {},
   "outputs": [],
   "source": [
    "# Here both start year and end year are included\n",
    "start_year = 2017\n",
    "end_year = 2018 \n",
    "\n",
    "quar1_dates = {\"start_date\": \"01-01\", \"end_date\": \"03-31\"}\n",
    "quar2_dates = {\"start_date\": \"04-01\", \"end_date\": \"06-30\"}\n",
    "quar3_dates = {\"start_date\": \"07-01\", \"end_date\": \"09-30\"}\n",
    "quar4_dates = {\"start_date\": \"10-01\", \"end_date\": \"12-31\"}\n",
    "\n",
    "old_committers = set()\n",
    "old_issue_subs = set()\n",
    "old_pr_subs = set()"
   ]
  },
  {
   "cell_type": "code",
   "execution_count": 95,
   "metadata": {},
   "outputs": [],
   "source": [
    "class Quarter:\n",
    "    \n",
    "    def __init__(self, number, year):\n",
    "        self.number = number    #.\n",
    "        self.year = year   \n",
    "   \n",
    "        self.num_commits = 0  \n",
    "        self.num_issues = 0\n",
    "        self.num_pullrequests = 0\n",
    "        \n",
    "        self.new_committers = 0\n",
    "        self.new_issue_subs = 0\n",
    "        self.new_pr_subs = 0\n",
    "        \n",
    "        self.start_date = \"\"\n",
    "        self.end_date = \"\"\n",
    "        \n",
    "        if self.number == 1:\n",
    "            self.start_date = str(self.year) + '-' + quar1_dates[\"start_date\"]\n",
    "            self.end_date = str(self.year) + '-' + quar1_dates[\"end_date\"]\n",
    "            \n",
    "        if self.number == 2:\n",
    "            self.start_date = str(self.year) + '-' + quar2_dates[\"start_date\"]\n",
    "            self.end_date = str(self.year) + '-' + quar3_dates[\"end_date\"]            \n",
    "            \n",
    "        if self.number == 3:\n",
    "            self.start_date = str(self.year) + '-' + quar3_dates[\"start_date\"]\n",
    "            self.end_date = str(self.year) + '-' + quar3_dates[\"end_date\"]\n",
    "            \n",
    "        if self.number == 4:\n",
    "            self.start_date = str(self.year) + '-' + quar4_dates[\"start_date\"]\n",
    "            self.end_date = str(self.year) + '-' + quar4_dates[\"end_date\"]\n",
    "        \n",
    "            \n",
    "    def is_includes_data(self, date):\n",
    "        if self._str_to_dt_quarter(self.start_date) <= self._str_to_dt_data(date) < self._str_to_dt_quarter(self.end_date):\n",
    "            return True\n",
    "\n",
    "        return False\n",
    "    \n",
    "    def add_analysis(self, datapoint):\n",
    "        print(\"hash\", datapoint['hash'])\n",
    "        if datapoint['category'] == \"commit\":\n",
    "            self.num_commits += 1 \n",
    "            \n",
    "            if datapoint['author'] not in old_committers:\n",
    "                self.new_committers += 1\n",
    "                \n",
    "            old_committers.add(datapoint['author'])\n",
    "            \n",
    "                \n",
    "        if datapoint['category'] == \"issue\":\n",
    "            self.num_issues += 1 \n",
    "            \n",
    "            if datapoint['author'] not in old_issue_subs:\n",
    "                self.new_issue_subs += 1\n",
    "                \n",
    "            old_issue_subs.add(datapoint['author'])\n",
    "            \n",
    "                \n",
    "        if datapoint['category'] == \"pull_request\":\n",
    "            self.num_pullrequests += 1 \n",
    "            \n",
    "            if datapoint['author'] not in old_pr_subs:\n",
    "                self.new_pr_subs += 1\n",
    "                \n",
    "            old_pr_subs.add(datapoint['author'])\n",
    "    \n",
    "    @staticmethod\n",
    "    def _str_to_dt_data(date):\n",
    "        try:\n",
    "            datetimestr =  datetime.datetime.strptime(date, \"%a %b %d %H:%M:%S %Y %z\").strftime(\"%Y-%m-%d\")\n",
    "            \n",
    "        \n",
    "        except ValueError as ve:\n",
    "            datetimestr =  datetime.datetime.strptime(date, \"%Y-%m-%dT%H:%M:%SZ\").strftime(\"%Y-%m-%d\")\n",
    "        \n",
    "        finally:\n",
    "            datetimeobj = datetime.datetime.strptime(datetimestr, \"%Y-%m-%d\")\n",
    "            return datetimeobj\n",
    "    \n",
    "#     @staticmethod\n",
    "#     def _str_to_dt_issue(date):\n",
    "        \n",
    "#         datetimestr =  datetime.datetime.strptime(date, \"%Y-%m-%dT%H:%M:%SZ\").strftime(\"%Y-%m-%d\")\n",
    "#         datetimeobj = datetime.datetime.strptime(datetimestr, \"%Y-%m-%d\")\n",
    "#         return datetimeobj\n",
    "    \n",
    "        \n",
    "    @staticmethod\n",
    "    def _str_to_dt_quarter(date):\n",
    "        \n",
    "        datetimeobj =  datetime.datetime.strptime(date, \"%Y-%m-%d\")\n",
    "        return datetimeobj\n",
    "    \n",
    "    def __str__(self):\n",
    "        return str(self.number) + \" \" + str(self.year)"
   ]
  },
  {
   "cell_type": "code",
   "execution_count": null,
   "metadata": {},
   "outputs": [],
   "source": []
  },
  {
   "cell_type": "code",
   "execution_count": null,
   "metadata": {},
   "outputs": [],
   "source": []
  },
  {
   "cell_type": "code",
   "execution_count": 96,
   "metadata": {},
   "outputs": [],
   "source": [
    "class CleanJson():   \n",
    "    \n",
    "    def __init__(self, path_to_file):\n",
    "        \n",
    "        self.clean_commit_df  = pd.DataFrame(columns=['repo', 'hash', 'category', 'commit', 'author', 'created_date','files_no', 'files_action', 'merge'])\n",
    "        \n",
    "        self.clean_issue_df  = pd.DataFrame(columns=['repo', 'hash', 'category', 'author', 'created_date', 'current_status'])\n",
    "        \n",
    "        self.clean_pr_df  = pd.DataFrame(columns=['repo', 'hash', 'category', 'author', 'created_date', 'current_status'])\n",
    "        \n",
    "        self.clean_list = [self.clean_commit_df, self.clean_issue_df, self.clean_pr_df]\n",
    "        \n",
    "        with open(path_to_file, 'r') as raw_data:\n",
    "            for line in raw_data:\n",
    "                line = json.loads(line)\n",
    "\n",
    "#                 print(line)\n",
    "                clean_line = dict()\n",
    "                if line['category'] == \"commit\":\n",
    "                    clean_line = self._clean_commit(line)\n",
    "                    self.clean_commit_df.loc[-1] = clean_line\n",
    "\n",
    "                elif line['category'] == \"issue\":\n",
    "                    clean_line = self._clean_issue(line)\n",
    "                    self.clean_issue_df.loc[-1] = clean_line\n",
    "\n",
    "                elif line['category'] == \"pull_request\":\n",
    "                    clean_line = self._clean_pr(line)\n",
    "                    self.clean_pr_df.loc[-1] = clean_line\n",
    "\n",
    "    @staticmethod\n",
    "    def _clean_commit(line):\n",
    "            repo_name = line['origin']\n",
    "            line_data = line['data']\n",
    "            cleaned_line = {\n",
    "                'repo': repo_name,\n",
    "                'hash': line_data['commit'],\n",
    "                'category': \"commit\",\n",
    "                'commit': line_data['Commit'],\n",
    "                'author': line_data['Author'],\n",
    "                'created_date': line_data['CommitDate'],\n",
    "                'files_no': len(line_data['files'])\n",
    "            }\n",
    "\n",
    "            actions = 0\n",
    "\n",
    "            for file in line_data['files']:\n",
    "                if 'action' in file:\n",
    "                    actions += 1\n",
    "                    cleaned_line['files_action'] = actions\n",
    "                    cleaned_line['merge'] = 'Merge' in line_data\n",
    "            return cleaned_line\n",
    "\n",
    "    @staticmethod\n",
    "    def _clean_issue(line):\n",
    "        repo_name = line['origin']\n",
    "        line_data = line['data']\n",
    "        cleaned_line ={\n",
    "            'repo': repo_name,\n",
    "            'hash': line_data['id'],\n",
    "            'category': \"issue\",\n",
    "            'author': line_data['user']['login'],\n",
    "            'created_date': line_data['created_at'],\n",
    "            'current_status': line_data['state']   \n",
    "        }\n",
    "\n",
    "        return cleaned_line\n",
    "\n",
    "    @staticmethod\n",
    "    def _clean_pr(line):\n",
    "        repo_name = line['origin']\n",
    "        line_data = line['data']\n",
    "        cleaned_line ={\n",
    "            'repo': repo_name,\n",
    "            'hash': line_data['id'],\n",
    "            'category': \"pull_request\",\n",
    "            'author': line_data['user']['login'],\n",
    "            'created_date': line_data['created_at'],\n",
    "            'current_status': line_data['state']   \n",
    "        }\n",
    "\n",
    "        return cleaned_line\n",
    "    "
   ]
  },
  {
   "cell_type": "code",
   "execution_count": 97,
   "metadata": {},
   "outputs": [],
   "source": [
    "year_list = [x for x in range(start_year, end_year + 1)]\n",
    "quar_list = [Quarter(num, year)  for year in year_list for num in range(1, 5)]"
   ]
  },
  {
   "cell_type": "code",
   "execution_count": 74,
   "metadata": {},
   "outputs": [],
   "source": [
    "clean_data = CleanJson('../../progit.json')"
   ]
  },
  {
   "cell_type": "code",
   "execution_count": 99,
   "metadata": {},
   "outputs": [
    {
     "name": "stdout",
     "output_type": "stream",
     "text": [
      ">> >> >>\n",
      ".. .. ..\n",
      "././././\n",
      "Wed Jan 23 09:03:01 2019 +0800\n",
      ".. .. ..\n",
      "././././\n",
      "Wed Jan 23 09:03:01 2019 +0800\n",
      ".. .. ..\n",
      "././././\n",
      "Wed Jan 23 09:03:01 2019 +0800\n",
      ".. .. ..\n",
      "././././\n",
      "Wed Jan 23 09:03:01 2019 +0800\n",
      ".. .. ..\n",
      "././././\n",
      "Wed Jan 23 09:03:01 2019 +0800\n",
      ".. .. ..\n",
      "././././\n",
      "Wed Jan 23 09:03:01 2019 +0800\n",
      ".. .. ..\n",
      "././././\n",
      "Wed Jan 23 09:03:01 2019 +0800\n",
      ".. .. ..\n",
      "././././\n",
      "Wed Jan 23 09:03:01 2019 +0800\n",
      ">> >> >>\n",
      ".. .. ..\n",
      "././././\n",
      "2019-03-11T00:38:16Z\n",
      ".. .. ..\n",
      "././././\n",
      "2019-03-11T00:38:16Z\n",
      ".. .. ..\n",
      "././././\n",
      "2019-03-11T00:38:16Z\n",
      ".. .. ..\n",
      "././././\n",
      "2019-03-11T00:38:16Z\n",
      ".. .. ..\n",
      "././././\n",
      "2019-03-11T00:38:16Z\n",
      ".. .. ..\n",
      "././././\n",
      "2019-03-11T00:38:16Z\n",
      ".. .. ..\n",
      "././././\n",
      "2019-03-11T00:38:16Z\n",
      ".. .. ..\n",
      "././././\n",
      "2019-03-11T00:38:16Z\n",
      ">> >> >>\n",
      ".. .. ..\n",
      "././././\n",
      "2019-03-11T00:38:16Z\n",
      ".. .. ..\n",
      "././././\n",
      "2019-03-11T00:38:16Z\n",
      ".. .. ..\n",
      "././././\n",
      "2019-03-11T00:38:16Z\n",
      ".. .. ..\n",
      "././././\n",
      "2019-03-11T00:38:16Z\n",
      ".. .. ..\n",
      "././././\n",
      "2019-03-11T00:38:16Z\n",
      ".. .. ..\n",
      "././././\n",
      "2019-03-11T00:38:16Z\n",
      ".. .. ..\n",
      "././././\n",
      "2019-03-11T00:38:16Z\n",
      ".. .. ..\n",
      "././././\n",
      "2019-03-11T00:38:16Z\n"
     ]
    }
   ],
   "source": [
    "for df in (clean_data.clean_list):\n",
    "    print(\">> >> >>\")\n",
    "    data = df\n",
    "    for quarter in quar_list:\n",
    "        print(\".. .. ..\")\n",
    "        for index, data_point in data.iterrows():\n",
    "#             print(type(data_point))\n",
    "#             print(data_point)\n",
    "            print(\"././././\")\n",
    "            data_point = pd.Series.to_dict(data_point)\n",
    "            print(data_point[\"created_date\"])\n",
    "            if quarter.is_includes_data(data_point[\"created_date\"]):\n",
    "                quarter.add_analysis(data_point)\n"
   ]
  },
  {
   "cell_type": "markdown",
   "metadata": {},
   "source": [
    "# Analysis\n",
    "\n"
   ]
  },
  {
   "cell_type": "markdown",
   "metadata": {},
   "source": [
    "## Number of commits, pull requests and issues per quadrant"
   ]
  },
  {
   "cell_type": "code",
   "execution_count": 88,
   "metadata": {},
   "outputs": [
    {
     "name": "stdout",
     "output_type": "stream",
     "text": [
      "1 2017 0\n",
      "2 2017 0\n",
      "3 2017 0\n",
      "4 2017 0\n",
      "1 2018 0\n",
      "2 2018 0\n",
      "3 2018 0\n",
      "4 2018 0\n"
     ]
    }
   ],
   "source": [
    "for q in quar_list:\n",
    "    print(q, q.num_commits)\n",
    "    \n",
    "for i in old_committers:\n",
    "    print(i)"
   ]
  },
  {
   "cell_type": "markdown",
   "metadata": {},
   "source": [
    "## Number of new committers, new issue submitters and pull request creators"
   ]
  },
  {
   "cell_type": "code",
   "execution_count": 83,
   "metadata": {},
   "outputs": [
    {
     "name": "stdout",
     "output_type": "stream",
     "text": [
      "1 2017 0\n",
      "2 2017 0\n",
      "3 2017 0\n",
      "4 2017 0\n",
      "1 2018 0\n",
      "2 2018 0\n",
      "3 2018 0\n",
      "4 2018 0\n"
     ]
    }
   ],
   "source": [
    "for q in quar_list:\n",
    "    print(q, q.new_committers)"
   ]
  },
  {
   "cell_type": "markdown",
   "metadata": {},
   "source": [
    "# Viewing data as a csv file"
   ]
  },
  {
   "cell_type": "markdown",
   "metadata": {},
   "source": [
    "## Writing the cleaned data to a csv"
   ]
  },
  {
   "cell_type": "code",
   "execution_count": 187,
   "metadata": {},
   "outputs": [],
   "source": [
    "def write_to_csv(file_path):\n",
    "    with open(file_path, 'w', ) as csvfile:\n",
    "        csv_writer = csv.writer(csvfile, delimiter=',')\n",
    "        \n",
    "        file_headers = [\"Quarter(Num)\", \"Quarter(Year)\", \"Num_Commits\", \"Num_Issues\", \"Num_PRs\", \"Num_new_commits\", \"Num_new_issues\", \"Num_new_prs\"]\n",
    "        csv_writer.writerow(file_headers)\n",
    "        \n",
    "        for quar in quar_list:\n",
    "            row = [str(quar.number),       \\\n",
    "                 str(quar.year),         \\\n",
    "                 str(quar.num_commits) ,     \\\n",
    "                 str(quar.num_issues)  ,    \\\n",
    "                 str(quar.num_pullrequests), \\\n",
    "                 str(quar.new_committers),  \\\n",
    "                 str(quar.new_issue_subs), \\\n",
    "                 str(quar.new_pr_subs)       \n",
    "                  ]\n",
    "            csv_writer.writerow(x for x in row)\n",
    "            "
   ]
  },
  {
   "cell_type": "code",
   "execution_count": 188,
   "metadata": {},
   "outputs": [],
   "source": [
    "write_to_csv(\"./practise.csv\")"
   ]
  },
  {
   "cell_type": "markdown",
   "metadata": {},
   "source": [
    "## Displaying a table based on the csv file"
   ]
  },
  {
   "cell_type": "code",
   "execution_count": 189,
   "metadata": {},
   "outputs": [],
   "source": [
    "def create_table(file_path):\n",
    "    with open(file_path, 'r', ) as csvfile:\n",
    "        csv_reader = csv.reader(csvfile, delimiter=',')\n",
    "        \n",
    "        \n",
    "        \n",
    "        for row in csv_reader:\n",
    "            for field in row:\n",
    "                print(\"%-10s\" %field, end=\"\\t\")\n",
    "            print()\n",
    "            \n",
    "        \n",
    "        \n",
    "        "
   ]
  },
  {
   "cell_type": "code",
   "execution_count": 190,
   "metadata": {},
   "outputs": [
    {
     "name": "stdout",
     "output_type": "stream",
     "text": [
      "Quarter(Num)\tQuarter(Year)\tNum_Commits\tNum_Issues\tNum_PRs   \tNum_new_commits\tNum_new_issues\tNum_new_prs\t\n",
      "1         \t2017      \t0         \t0         \t0         \t0         \t0         \t0         \t\n",
      "2         \t2017      \t9         \t0         \t0         \t0         \t0         \t0         \t\n",
      "3         \t2017      \t9         \t0         \t0         \t0         \t0         \t0         \t\n",
      "4         \t2017      \t45        \t0         \t0         \t0         \t0         \t0         \t\n",
      "1         \t2018      \t1         \t0         \t0         \t0         \t0         \t0         \t\n",
      "2         \t2018      \t8         \t0         \t0         \t0         \t0         \t0         \t\n",
      "3         \t2018      \t6         \t0         \t0         \t0         \t0         \t0         \t\n",
      "4         \t2018      \t0         \t0         \t0         \t0         \t0         \t0         \t\n"
     ]
    }
   ],
   "source": [
    "create_table('./practise.csv')"
   ]
  },
  {
   "cell_type": "code",
   "execution_count": 5,
   "metadata": {},
   "outputs": [],
   "source": [
    "a = pd.DataFrame(columns=['a', 'b', 'c'])"
   ]
  },
  {
   "cell_type": "code",
   "execution_count": 19,
   "metadata": {},
   "outputs": [],
   "source": [
    "b = {'b': 5, 'd':  10}"
   ]
  },
  {
   "cell_type": "code",
   "execution_count": 20,
   "metadata": {},
   "outputs": [],
   "source": [
    "a.loc[-1] = b"
   ]
  },
  {
   "cell_type": "code",
   "execution_count": 21,
   "metadata": {},
   "outputs": [
    {
     "data": {
      "text/html": [
       "<div>\n",
       "<style scoped>\n",
       "    .dataframe tbody tr th:only-of-type {\n",
       "        vertical-align: middle;\n",
       "    }\n",
       "\n",
       "    .dataframe tbody tr th {\n",
       "        vertical-align: top;\n",
       "    }\n",
       "\n",
       "    .dataframe thead th {\n",
       "        text-align: right;\n",
       "    }\n",
       "</style>\n",
       "<table border=\"1\" class=\"dataframe\">\n",
       "  <thead>\n",
       "    <tr style=\"text-align: right;\">\n",
       "      <th></th>\n",
       "      <th>a</th>\n",
       "      <th>b</th>\n",
       "      <th>c</th>\n",
       "    </tr>\n",
       "  </thead>\n",
       "  <tbody>\n",
       "    <tr>\n",
       "      <th>-1</th>\n",
       "      <td>NaN</td>\n",
       "      <td>5.0</td>\n",
       "      <td>NaN</td>\n",
       "    </tr>\n",
       "  </tbody>\n",
       "</table>\n",
       "</div>"
      ],
      "text/plain": [
       "     a    b   c\n",
       "-1 NaN  5.0 NaN"
      ]
     },
     "execution_count": 21,
     "metadata": {},
     "output_type": "execute_result"
    }
   ],
   "source": [
    "a"
   ]
  },
  {
   "cell_type": "code",
   "execution_count": null,
   "metadata": {},
   "outputs": [],
   "source": []
  }
 ],
 "metadata": {
  "kernelspec": {
   "display_name": "Python 3",
   "language": "python",
   "name": "python3"
  },
  "language_info": {
   "codemirror_mode": {
    "name": "ipython",
    "version": 3
   },
   "file_extension": ".py",
   "mimetype": "text/x-python",
   "name": "python",
   "nbconvert_exporter": "python",
   "pygments_lexer": "ipython3",
   "version": "3.6.7"
  }
 },
 "nbformat": 4,
 "nbformat_minor": 2
}
