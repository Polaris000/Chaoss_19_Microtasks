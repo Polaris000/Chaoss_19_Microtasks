{
 "cells": [
  {
   "cell_type": "markdown",
   "metadata": {},
   "source": [
    "# Microtask 2\n",
    "\n",
    "## Aim of the task: \n",
    "Analysis of data fetched by perceval on a per-quarter basis.\n",
    "This includes (but not limited to) :\n",
    "\n",
    "- The number of new committers per quarter\n",
    "- The number of new issue and pull request submitters per quarter\n",
    "- The total number of issues, commits and pull requests per quarter\n",
    "\n",
    "This task is exactly the same as microtask 1, except for the fact that this one is supposed to be done using pandas. Thus, only the points that differ from microtask1  will be discussed here.\n",
    "\n",
    "The data used and the method of data collection is the same as that of microtask 0 and hence is not mentioned here.  "
   ]
  },
  {
   "cell_type": "code",
   "execution_count": 59,
   "metadata": {},
   "outputs": [],
   "source": [
    "import json\n",
    "import csv\n",
    "import datetime\n",
    "import pandas as pd\n",
    "import matplotlib.pyplot as plt"
   ]
  },
  {
   "cell_type": "code",
   "execution_count": 52,
   "metadata": {},
   "outputs": [],
   "source": [
    "github_url = \"https://github.com/\"  # the github url domain: used for generating repo_urls\n",
    "owner = \"progit\"\n",
    "repos_used = [\"progit2-ru\", \"progit2-zh\"]\n",
    "repo_urls = [github_url + owner + \"/\" + repo_used for repo_used in repos_used]\n",
    "auth_token = \"\" # Please enter your github token here"
   ]
  },
  {
   "cell_type": "code",
   "execution_count": 138,
   "metadata": {},
   "outputs": [],
   "source": [
    "class Issue():   \n",
    "    \n",
    "    def __init__(self, path_to_file):\n",
    "\n",
    "        # The dataframes mentioned in the above cell will be populated using the \n",
    "        # following lists: pd.DataFrame(list_name)\n",
    "        clean_issue_list = list()\n",
    "\n",
    "        with open(path_to_file, 'r') as raw_data:\n",
    "            for line in raw_data:\n",
    "                line = json.loads(line)\n",
    "\n",
    "                if line['category'] == \"issue\":\n",
    "                    clean_line = self._clean_issue(line)\n",
    "                    clean_issue_list.append(clean_line)\n",
    "                                            \n",
    "            self.clean_issue_df = pd.DataFrame(clean_issue_list)\n",
    "\n",
    "\n",
    "\n",
    "    def _clean_issue(self, line):\n",
    "        repo_name = line['origin']\n",
    "        line_data = line['data']\n",
    "        cleaned_line ={\n",
    "            'repo': repo_name,\n",
    "            'hash': line_data['id'],\n",
    "            'created_date': self._str_to_dt_data(line_data['created_at']),\n",
    "            'current_status': line_data['state'], \n",
    "            'closed_at': None if line_data['state'] != \"closed\" else self._str_to_dt_data(line_data['closed_at']), \n",
    "            'last_updated': self._str_to_dt_data(line_data['updated_at']),\n",
    "            'first_res_time': None if line_data[\"comments\"] == 0 else self._str_to_dt_data(line_data[\"comments_data\"][0][\"created_at\"])\n",
    "        }\n",
    "\n",
    "        return cleaned_line\n",
    "    \n",
    "    \n",
    "\n",
    "    def _str_to_dt_data(self, date):\n",
    "        datetimestr =  datetime.datetime.strptime(date, \"%Y-%m-%dT%H:%M:%SZ\").strftime(\"%Y-%m-%d\")\n",
    "        datetimeobj = datetime.datetime.strptime(datetimestr, \"%Y-%m-%d\")\n",
    "        return datetimeobj    "
   ]
  },
  {
   "cell_type": "code",
   "execution_count": 29,
   "metadata": {
    "collapsed": true
   },
   "outputs": [
    {
     "data": {
      "text/plain": [
       "{'backend_name': 'GitHub',\n",
       " 'backend_version': '0.17.4',\n",
       " 'category': 'issue',\n",
       " 'data': {'assignee': None,\n",
       "  'assignee_data': {},\n",
       "  'assignees': [],\n",
       "  'assignees_data': [],\n",
       "  'author_association': 'CONTRIBUTOR',\n",
       "  'body': '',\n",
       "  'closed_at': '2014-10-30T20:20:12Z',\n",
       "  'comments': 0,\n",
       "  'comments_data': [],\n",
       "  'comments_url': 'https://api.github.com/repos/progit/progit2-ru/issues/7/comments',\n",
       "  'created_at': '2014-10-30T11:15:50Z',\n",
       "  'events_url': 'https://api.github.com/repos/progit/progit2-ru/issues/7/events',\n",
       "  'html_url': 'https://github.com/progit/progit2-ru/pull/7',\n",
       "  'id': 47257909,\n",
       "  'labels': [],\n",
       "  'labels_url': 'https://api.github.com/repos/progit/progit2-ru/issues/7/labels{/name}',\n",
       "  'locked': False,\n",
       "  'milestone': None,\n",
       "  'node_id': 'MDExOlB1bGxSZXF1ZXN0MjM1OTcyMjA=',\n",
       "  'number': 7,\n",
       "  'pull_request': {'diff_url': 'https://github.com/progit/progit2-ru/pull/7.diff',\n",
       "   'html_url': 'https://github.com/progit/progit2-ru/pull/7',\n",
       "   'patch_url': 'https://github.com/progit/progit2-ru/pull/7.patch',\n",
       "   'url': 'https://api.github.com/repos/progit/progit2-ru/pulls/7'},\n",
       "  'reactions': {'+1': 0,\n",
       "   '-1': 0,\n",
       "   'confused': 0,\n",
       "   'eyes': 0,\n",
       "   'heart': 0,\n",
       "   'hooray': 0,\n",
       "   'laugh': 0,\n",
       "   'rocket': 0,\n",
       "   'total_count': 0,\n",
       "   'url': 'https://api.github.com/repos/progit/progit2-ru/issues/7/reactions'},\n",
       "  'reactions_data': [],\n",
       "  'repository_url': 'https://api.github.com/repos/progit/progit2-ru',\n",
       "  'state': 'closed',\n",
       "  'title': 'Preface and license translation',\n",
       "  'updated_at': '2014-10-30T20:20:12Z',\n",
       "  'url': 'https://api.github.com/repos/progit/progit2-ru/issues/7',\n",
       "  'user': {'avatar_url': 'https://avatars0.githubusercontent.com/u/2458986?v=4',\n",
       "   'events_url': 'https://api.github.com/users/Bakuutin/events{/privacy}',\n",
       "   'followers_url': 'https://api.github.com/users/Bakuutin/followers',\n",
       "   'following_url': 'https://api.github.com/users/Bakuutin/following{/other_user}',\n",
       "   'gists_url': 'https://api.github.com/users/Bakuutin/gists{/gist_id}',\n",
       "   'gravatar_id': '',\n",
       "   'html_url': 'https://github.com/Bakuutin',\n",
       "   'id': 2458986,\n",
       "   'login': 'Bakuutin',\n",
       "   'node_id': 'MDQ6VXNlcjI0NTg5ODY=',\n",
       "   'organizations_url': 'https://api.github.com/users/Bakuutin/orgs',\n",
       "   'received_events_url': 'https://api.github.com/users/Bakuutin/received_events',\n",
       "   'repos_url': 'https://api.github.com/users/Bakuutin/repos',\n",
       "   'site_admin': False,\n",
       "   'starred_url': 'https://api.github.com/users/Bakuutin/starred{/owner}{/repo}',\n",
       "   'subscriptions_url': 'https://api.github.com/users/Bakuutin/subscriptions',\n",
       "   'type': 'User',\n",
       "   'url': 'https://api.github.com/users/Bakuutin'},\n",
       "  'user_data': {'avatar_url': 'https://avatars0.githubusercontent.com/u/2458986?v=4',\n",
       "   'bio': None,\n",
       "   'blog': '',\n",
       "   'company': None,\n",
       "   'created_at': '2012-09-30T20:27:29Z',\n",
       "   'email': 'Igorbakutin@gmail.com',\n",
       "   'events_url': 'https://api.github.com/users/Bakuutin/events{/privacy}',\n",
       "   'followers': 7,\n",
       "   'followers_url': 'https://api.github.com/users/Bakuutin/followers',\n",
       "   'following': 6,\n",
       "   'following_url': 'https://api.github.com/users/Bakuutin/following{/other_user}',\n",
       "   'gists_url': 'https://api.github.com/users/Bakuutin/gists{/gist_id}',\n",
       "   'gravatar_id': '',\n",
       "   'hireable': None,\n",
       "   'html_url': 'https://github.com/Bakuutin',\n",
       "   'id': 2458986,\n",
       "   'location': 'St. Petersburg, Russia',\n",
       "   'login': 'Bakuutin',\n",
       "   'name': 'Igor Bakutin',\n",
       "   'node_id': 'MDQ6VXNlcjI0NTg5ODY=',\n",
       "   'organizations': [],\n",
       "   'organizations_url': 'https://api.github.com/users/Bakuutin/orgs',\n",
       "   'public_gists': 3,\n",
       "   'public_repos': 20,\n",
       "   'received_events_url': 'https://api.github.com/users/Bakuutin/received_events',\n",
       "   'repos_url': 'https://api.github.com/users/Bakuutin/repos',\n",
       "   'site_admin': False,\n",
       "   'starred_url': 'https://api.github.com/users/Bakuutin/starred{/owner}{/repo}',\n",
       "   'subscriptions_url': 'https://api.github.com/users/Bakuutin/subscriptions',\n",
       "   'type': 'User',\n",
       "   'updated_at': '2019-03-08T09:54:44Z',\n",
       "   'url': 'https://api.github.com/users/Bakuutin'}},\n",
       " 'origin': 'https://github.com/progit/progit2-ru',\n",
       " 'perceval_version': '0.12.3',\n",
       " 'tag': 'https://github.com/progit/progit2-ru',\n",
       " 'timestamp': 1553082465.578548,\n",
       " 'updated_on': 1414700412.0,\n",
       " 'uuid': 'c9d989fac5e6fafb5b8b281906271aaf23558890'}"
      ]
     },
     "execution_count": 29,
     "metadata": {},
     "output_type": "execute_result"
    }
   ],
   "source": [
    "{'backend_name': 'GitHub', 'backend_version': '0.17.4', 'category': 'issue', 'data': {'assignee': None, 'assignee_data': {}, 'assignees': [], 'assignees_data': [], 'author_association': 'CONTRIBUTOR', 'body': '', 'closed_at': '2014-10-30T20:20:12Z', 'comments': 0, 'comments_data': [], 'comments_url': 'https://api.github.com/repos/progit/progit2-ru/issues/7/comments', 'created_at': '2014-10-30T11:15:50Z', 'events_url': 'https://api.github.com/repos/progit/progit2-ru/issues/7/events', 'html_url': 'https://github.com/progit/progit2-ru/pull/7', 'id': 47257909, 'labels': [], 'labels_url': 'https://api.github.com/repos/progit/progit2-ru/issues/7/labels{/name}', 'locked': False, 'milestone': None, 'node_id': 'MDExOlB1bGxSZXF1ZXN0MjM1OTcyMjA=', 'number': 7, 'pull_request': {'diff_url': 'https://github.com/progit/progit2-ru/pull/7.diff', 'html_url': 'https://github.com/progit/progit2-ru/pull/7', 'patch_url': 'https://github.com/progit/progit2-ru/pull/7.patch', 'url': 'https://api.github.com/repos/progit/progit2-ru/pulls/7'}, 'reactions': {'+1': 0, '-1': 0, 'confused': 0, 'eyes': 0, 'heart': 0, 'hooray': 0, 'laugh': 0, 'rocket': 0, 'total_count': 0, 'url': 'https://api.github.com/repos/progit/progit2-ru/issues/7/reactions'}, 'reactions_data': [], 'repository_url': 'https://api.github.com/repos/progit/progit2-ru', 'state': 'closed', 'title': 'Preface and license translation', 'updated_at': '2014-10-30T20:20:12Z', 'url': 'https://api.github.com/repos/progit/progit2-ru/issues/7', 'user': {'avatar_url': 'https://avatars0.githubusercontent.com/u/2458986?v=4', 'events_url': 'https://api.github.com/users/Bakuutin/events{/privacy}', 'followers_url': 'https://api.github.com/users/Bakuutin/followers', 'following_url': 'https://api.github.com/users/Bakuutin/following{/other_user}', 'gists_url': 'https://api.github.com/users/Bakuutin/gists{/gist_id}', 'gravatar_id': '', 'html_url': 'https://github.com/Bakuutin', 'id': 2458986, 'login': 'Bakuutin', 'node_id': 'MDQ6VXNlcjI0NTg5ODY=', 'organizations_url': 'https://api.github.com/users/Bakuutin/orgs', 'received_events_url': 'https://api.github.com/users/Bakuutin/received_events', 'repos_url': 'https://api.github.com/users/Bakuutin/repos', 'site_admin': False, 'starred_url': 'https://api.github.com/users/Bakuutin/starred{/owner}{/repo}', 'subscriptions_url': 'https://api.github.com/users/Bakuutin/subscriptions', 'type': 'User', 'url': 'https://api.github.com/users/Bakuutin'}, 'user_data': {'avatar_url': 'https://avatars0.githubusercontent.com/u/2458986?v=4', 'bio': None, 'blog': '', 'company': None, 'created_at': '2012-09-30T20:27:29Z', 'email': 'Igorbakutin@gmail.com', 'events_url': 'https://api.github.com/users/Bakuutin/events{/privacy}', 'followers': 7, 'followers_url': 'https://api.github.com/users/Bakuutin/followers', 'following': 6, 'following_url': 'https://api.github.com/users/Bakuutin/following{/other_user}', 'gists_url': 'https://api.github.com/users/Bakuutin/gists{/gist_id}', 'gravatar_id': '', 'hireable': None, 'html_url': 'https://github.com/Bakuutin', 'id': 2458986, 'location': 'St. Petersburg, Russia', 'login': 'Bakuutin', 'name': 'Igor Bakutin', 'node_id': 'MDQ6VXNlcjI0NTg5ODY=', 'organizations': [], 'organizations_url': 'https://api.github.com/users/Bakuutin/orgs', 'public_gists': 3, 'public_repos': 20, 'received_events_url': 'https://api.github.com/users/Bakuutin/received_events', 'repos_url': 'https://api.github.com/users/Bakuutin/repos', 'site_admin': False, 'starred_url': 'https://api.github.com/users/Bakuutin/starred{/owner}{/repo}', 'subscriptions_url': 'https://api.github.com/users/Bakuutin/subscriptions', 'type': 'User', 'updated_at': '2019-03-08T09:54:44Z', 'url': 'https://api.github.com/users/Bakuutin'}}, 'origin': 'https://github.com/progit/progit2-ru', 'perceval_version': '0.12.3', 'tag': 'https://github.com/progit/progit2-ru', 'timestamp': 1553082465.578548, 'updated_on': 1414700412.0, 'uuid': 'c9d989fac5e6fafb5b8b281906271aaf23558890'}"
   ]
  },
  {
   "cell_type": "code",
   "execution_count": 139,
   "metadata": {},
   "outputs": [],
   "source": [
    "clean_data = Issue('../progit.json')"
   ]
  },
  {
   "cell_type": "markdown",
   "metadata": {},
   "source": [
    "# Analysis\n",
    "\n"
   ]
  },
  {
   "cell_type": "markdown",
   "metadata": {},
   "source": [
    "## Number of closed and open issues"
   ]
  },
  {
   "cell_type": "code",
   "execution_count": 140,
   "metadata": {},
   "outputs": [
    {
     "data": {
      "image/png": "[encoded data removed]",
      "text/plain": [
       "<Figure size 360x360 with 1 Axes>"
      ]
     },
     "metadata": {},
     "output_type": "display_data"
    },
    {
     "data": {
      "image/png": "[encoded data removed]",
      "text/plain": [
       "<Figure size 360x360 with 1 Axes>"
      ]
     },
     "metadata": {},
     "output_type": "display_data"
    }
   ],
   "source": [
    "for repo_url in repo_urls:\n",
    "    issue_status_series = clean_data.clean_issue_df[\"current_status\"][clean_data.clean_issue_df['repo'] == repo_url]\n",
    "    plt.figure()\n",
    "    issue_status_series.value_counts().plot  \\\n",
    "    (\n",
    "        kind='pie', \n",
    "        figsize=(5, 5), \n",
    "        title=repo_url,\n",
    "        legend=False, \n",
    "        labels=issue_status_series.value_counts()\n",
    "    )"
   ]
  },
  {
   "cell_type": "markdown",
   "metadata": {},
   "source": [
    "## Age of open issues"
   ]
  },
  {
   "cell_type": "code",
   "execution_count": 160,
   "metadata": {},
   "outputs": [
    {
     "name": "stdout",
     "output_type": "stream",
     "text": [
      "Average age of open issues in  https://github.com/progit/progit2-ru  is(days):  901\n",
      "Average age of open issues in  https://github.com/progit/progit2-zh  is(days):  1020\n"
     ]
    },
    {
     "data": {
      "image/png": "[encoded data removed]",
      "text/plain": [
       "<Figure size 432x288 with 1 Axes>"
      ]
     },
     "metadata": {
      "needs_background": "light"
     },
     "output_type": "display_data"
    },
    {
     "data": {
      "image/png": "[encoded data removed]",
      "text/plain": [
       "<Figure size 432x288 with 1 Axes>"
      ]
     },
     "metadata": {
      "needs_background": "light"
     },
     "output_type": "display_data"
    }
   ],
   "source": [
    "for repo_url in repo_urls:\n",
    "    issue_status_series = datetime.datetime.now() - clean_data.clean_issue_df[\"created_date\"][(clean_data.clean_issue_df[\"current_status\"] == \"open\") & (clean_data.clean_issue_df['repo'] == repo_url)] \n",
    "    days = [x.days for x in issue_status_series]\n",
    "    print(\"Average age of open issues in \", repo_url, \" is(days): \", int(sum(days) / len(days)))\n",
    "    plt.figure()\n",
    "    plt.ylim([0, max(days)])\n",
    "    plt.bar  \\\n",
    "    (\n",
    "        x = range(1, len(days) +1),\n",
    "        height=days, \n",
    "    )"
   ]
  },
  {
   "cell_type": "markdown",
   "metadata": {},
   "source": [
    "## Time for issues to be resolved\n"
   ]
  },
  {
   "cell_type": "code",
   "execution_count": 159,
   "metadata": {},
   "outputs": [
    {
     "name": "stdout",
     "output_type": "stream",
     "text": [
      "\n",
      "Average resolution time for  https://github.com/progit/progit2-ru  is(days):  22\n",
      "\n",
      "Average resolution time for  https://github.com/progit/progit2-zh  is(days):  25\n"
     ]
    },
    {
     "data": {
      "image/png": "[encoded data removed]",
      "text/plain": [
       "<Figure size 432x288 with 1 Axes>"
      ]
     },
     "metadata": {
      "needs_background": "light"
     },
     "output_type": "display_data"
    },
    {
     "data": {
      "image/png": "[encoded data removed]",
      "text/plain": [
       "<Figure size 432x288 with 1 Axes>"
      ]
     },
     "metadata": {
      "needs_background": "light"
     },
     "output_type": "display_data"
    }
   ],
   "source": [
    "for repo_url in repo_urls:\n",
    "    issue_status_series = clean_data.clean_issue_df[\"closed_at\"][(clean_data.clean_issue_df[\"current_status\"] == \"closed\") & (clean_data.clean_issue_df['repo'] == repo_url)] \\\n",
    "    - clean_data.clean_issue_df[\"created_date\"][(clean_data.clean_issue_df[\"current_status\"] == \"closed\") & (clean_data.clean_issue_df['repo'] == repo_url)] \n",
    "    print()\n",
    "    days = [x.days for x in issue_status_series]\n",
    "    print(\"Average resolution time for \", repo_url, \" is(days): \", int(sum(days) / len(days)))\n",
    "    plt.figure()\n",
    "    plt.ylim([0, max(days)])\n",
    "    plt.bar  \\\n",
    "    (\n",
    "        x = range(1, len(days) +1),\n",
    "        height=days, \n",
    "    )"
   ]
  }
 ],
 "metadata": {
  "kernelspec": {
   "display_name": "Python 3",
   "language": "python",
   "name": "python3"
  },
  "language_info": {
   "codemirror_mode": {
    "name": "ipython",
    "version": 3
   },
   "file_extension": ".py",
   "mimetype": "text/x-python",
   "name": "python",
   "nbconvert_exporter": "python",
   "pygments_lexer": "ipython3",
   "version": "3.6.7"
  }
 },
 "nbformat": 4,
 "nbformat_minor": 2
}
